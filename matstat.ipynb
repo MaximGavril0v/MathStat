{
  "nbformat": 4,
  "nbformat_minor": 0,
  "metadata": {
    "colab": {
      "provenance": []
    },
    "kernelspec": {
      "name": "python3",
      "display_name": "Python 3"
    },
    "language_info": {
      "name": "python"
    }
  },
  "cells": [
    {
      "cell_type": "code",
      "execution_count": null,
      "metadata": {
        "id": "tE_zA5uFp4YY",
        "colab": {
          "base_uri": "https://localhost:8080/"
        },
        "outputId": "4b5eb155-ee23-4de6-ba7b-ad3ad2188a58"
      },
      "outputs": [
        {
          "output_type": "stream",
          "name": "stdout",
          "text": [
            "Looking in indexes: https://pypi.org/simple, https://us-python.pkg.dev/colab-wheels/public/simple/\n",
            "Requirement already satisfied: scipy in /usr/local/lib/python3.8/dist-packages (1.7.3)\n",
            "Collecting scipy\n",
            "  Downloading scipy-1.9.3-cp38-cp38-manylinux_2_17_x86_64.manylinux2014_x86_64.whl (33.8 MB)\n",
            "\u001b[K     |████████████████████████████████| 33.8 MB 1.3 MB/s \n",
            "\u001b[?25hRequirement already satisfied: numpy<1.26.0,>=1.18.5 in /usr/local/lib/python3.8/dist-packages (from scipy) (1.21.6)\n",
            "Installing collected packages: scipy\n",
            "  Attempting uninstall: scipy\n",
            "    Found existing installation: scipy 1.7.3\n",
            "    Uninstalling scipy-1.7.3:\n",
            "      Successfully uninstalled scipy-1.7.3\n",
            "Successfully installed scipy-1.9.3\n"
          ]
        }
      ],
      "source": [
        "!pip install --upgrade scipy\n",
        "import scipy.stats as sps\n",
        "import statsmodels.stats.weightstats as sm\n",
        "import numpy as np\n",
        "import ipywidgets as widgets\n",
        "import matplotlib.pyplot as plt\n",
        "%matplotlib inline"
      ]
    },
    {
      "cell_type": "code",
      "source": [
        "np.random.seed(1)\n",
        "chi_sample = sps.chi2(10).rvs(150)\n",
        "print(sps.tmean(chi_sample), sps.tvar(chi_sample), sps.tstd(chi_sample))"
      ],
      "metadata": {
        "colab": {
          "base_uri": "https://localhost:8080/"
        },
        "id": "lFJkNgryw-UJ",
        "outputId": "7eb4b456-7163-456c-87a2-48a5beb8cdfc"
      },
      "execution_count": null,
      "outputs": [
        {
          "output_type": "stream",
          "name": "stdout",
          "text": [
            "10.141611694289773 21.63465486118451 4.651306790697053\n"
          ]
        }
      ]
    },
    {
      "cell_type": "code",
      "source": [
        "np.random.seed(4)\n",
        "uniform_sample = sps.uniform(5, 10).rvs(150)\n",
        "print(sps.tmean(uniform_sample), sps.tvar(uniform_sample), sps.tstd(uniform_sample))"
      ],
      "metadata": {
        "colab": {
          "base_uri": "https://localhost:8080/"
        },
        "id": "9u8n6bv2nn11",
        "outputId": "c403f4b7-4652-495b-bdbf-2fab349d92dd"
      },
      "execution_count": null,
      "outputs": [
        {
          "output_type": "stream",
          "name": "stdout",
          "text": [
            "10.266792648818582 8.137971896625956 2.852713076463519\n"
          ]
        }
      ]
    },
    {
      "cell_type": "code",
      "source": [
        "np.random.seed(2)\n",
        "norm_sample = sps.norm(loc = 10, scale = 2).rvs(100)\n",
        "print(sps.tmean(norm_sample), sps.tvar(norm_sample), sps.tstd(norm_sample))"
      ],
      "metadata": {
        "colab": {
          "base_uri": "https://localhost:8080/"
        },
        "id": "DDD3Q0vUnoHC",
        "outputId": "10e2ec14-c802-44a1-8ee7-fd6b147f11a1"
      },
      "execution_count": null,
      "outputs": [
        {
          "output_type": "stream",
          "name": "stdout",
          "text": [
            "9.792517732234806 4.34522534304783 2.084520410801446\n"
          ]
        }
      ]
    },
    {
      "cell_type": "code",
      "source": [
        "sps.pearsonr(chi_sample, uniform_sample)"
      ],
      "metadata": {
        "colab": {
          "base_uri": "https://localhost:8080/"
        },
        "id": "1hIclKku1Ehx",
        "outputId": "07b04348-9db8-4c0f-9f47-e4d77a4e1569"
      },
      "execution_count": null,
      "outputs": [
        {
          "output_type": "execute_result",
          "data": {
            "text/plain": [
              "(0.13727112058202717, 0.09391536662970018)"
            ]
          },
          "metadata": {},
          "execution_count": 5
        }
      ]
    },
    {
      "cell_type": "code",
      "source": [
        "sps.spearmanr(chi_sample, uniform_sample)"
      ],
      "metadata": {
        "colab": {
          "base_uri": "https://localhost:8080/"
        },
        "id": "7yHZpsvS19xS",
        "outputId": "e2535d93-78f6-4c49-e3f5-79cc1440a426"
      },
      "execution_count": null,
      "outputs": [
        {
          "output_type": "execute_result",
          "data": {
            "text/plain": [
              "SpearmanrResult(correlation=0.10951420063113915, pvalue=0.1821823920591257)"
            ]
          },
          "metadata": {},
          "execution_count": 6
        }
      ]
    },
    {
      "cell_type": "code",
      "source": [
        "sps.kendalltau(chi_sample, uniform_sample)"
      ],
      "metadata": {
        "colab": {
          "base_uri": "https://localhost:8080/"
        },
        "id": "s5yq8PYI2aFq",
        "outputId": "858693ba-c97e-4f82-e3d2-e4005e91e1e6"
      },
      "execution_count": null,
      "outputs": [
        {
          "output_type": "execute_result",
          "data": {
            "text/plain": [
              "KendalltauResult(correlation=0.07400447427293064, pvalue=0.17899461232857605)"
            ]
          },
          "metadata": {},
          "execution_count": 7
        }
      ]
    },
    {
      "cell_type": "code",
      "source": [
        "import matplotlib.pyplot as plt\n",
        "plt.scatter(chi_sample, uniform_sample)\n",
        "plt.show()"
      ],
      "metadata": {
        "id": "XVPqoBw44NA7"
      },
      "execution_count": null,
      "outputs": []
    },
    {
      "cell_type": "code",
      "source": [
        "emp_table = plt.hist2d(chi_sample, uniform_sample, bins=5)[0]\n",
        "emp_table"
      ],
      "metadata": {
        "id": "_QR08Lgy6Ed8"
      },
      "execution_count": null,
      "outputs": []
    },
    {
      "cell_type": "code",
      "source": [
        "sps.chi2_contingency(emp_table)"
      ],
      "metadata": {
        "id": "-6AodPbKEd4B"
      },
      "execution_count": null,
      "outputs": []
    },
    {
      "cell_type": "code",
      "source": [
        "pears_xu = []\n",
        "spear_xu = []\n",
        "kend_xu = []\n",
        "pears_xv = []\n",
        "spear_xv = []\n",
        "kend_xv = []\n",
        "for la in np.linspace(0, 1):\n",
        "  u = la*chi_sample + (1-la)*uniform_sample\n",
        "  v = la*chi_sample**3 + (1-la)*uniform_sample**3\n",
        "  pears_xu.append(sps.pearsonr(chi_sample, u)[0])\n",
        "  spear_xu.append(sps.spearmanr(chi_sample, u)[0])\n",
        "  kend_xu.append(sps.kendalltau(chi_sample, u)[0])\n",
        "  pears_xv.append(sps.pearsonr(chi_sample, v)[0])\n",
        "  spear_xv.append(sps.spearmanr(chi_sample, v)[0])\n",
        "  kend_xv.append(sps.kendalltau(chi_sample, v)[0])\n",
        "plt.plot(np.linspace(0, 1), pears_xu, color='green', label='Pearson')\n",
        "plt.plot(np.linspace(0, 1), spear_xu, color='red', label='Spearman')\n",
        "plt.plot(np.linspace(0, 1), kend_xu, color='blue', label='Kendall')\n",
        "plt.legend(loc='best')\n",
        "plt.show()"
      ],
      "metadata": {
        "id": "HCpp1ihtVoDE"
      },
      "execution_count": null,
      "outputs": []
    },
    {
      "cell_type": "code",
      "source": [
        "plt.plot(np.linspace(0, 1), pears_xv, color='green', label='Pearson')\n",
        "plt.plot(np.linspace(0, 1), spear_xv, color='red', label='Spearman')\n",
        "plt.plot(np.linspace(0, 1), kend_xv, color='blue', label='Kendall')\n",
        "plt.legend(loc='best')\n",
        "plt.show()"
      ],
      "metadata": {
        "id": "3vUhARQctE4_"
      },
      "execution_count": null,
      "outputs": []
    },
    {
      "cell_type": "code",
      "source": [
        "plt.scatter(chi_sample, chi_sample**3)"
      ],
      "metadata": {
        "id": "nUnmoMWgzaXo"
      },
      "execution_count": null,
      "outputs": []
    },
    {
      "cell_type": "code",
      "source": [
        "plt.scatter(sps.rankdata(chi_sample), sps.rankdata(chi_sample**3))"
      ],
      "metadata": {
        "id": "EW6B5F0t05ze"
      },
      "execution_count": null,
      "outputs": []
    },
    {
      "cell_type": "code",
      "source": [
        "sps.bartlett(chi_sample, uniform_sample, norm_sample)"
      ],
      "metadata": {
        "colab": {
          "base_uri": "https://localhost:8080/"
        },
        "id": "efLKWT9YrDPG",
        "outputId": "8cda8b34-27b3-4a18-e5a2-739245ab911a"
      },
      "execution_count": null,
      "outputs": [
        {
          "output_type": "execute_result",
          "data": {
            "text/plain": [
              "BartlettResult(statistic=55.83440406785615, pvalue=7.511267113114583e-13)"
            ]
          },
          "metadata": {},
          "execution_count": 19
        }
      ]
    },
    {
      "cell_type": "code",
      "source": [
        "gen_sample = np.concatenate((chi_sample, uniform_sample, norm_sample))\n",
        "print(sps.tmean(gen_sample), sps.tvar(gen_sample), len(gen_sample))"
      ],
      "metadata": {
        "colab": {
          "base_uri": "https://localhost:8080/"
        },
        "id": "3sDgKmcVNClf",
        "outputId": "f54f3143-d168-4c03-ce60-54362974faeb"
      },
      "execution_count": null,
      "outputs": [
        {
          "output_type": "stream",
          "name": "stdout",
          "text": [
            "9.990345086972535 11.509162495170054 250\n"
          ]
        }
      ]
    },
    {
      "cell_type": "code",
      "source": [
        "(sps.tvar(chi_sample)*100 + sps.tvar(uniform_sample)*50 + sps.tvar(norm_sample)*100) / 250"
      ],
      "metadata": {
        "colab": {
          "base_uri": "https://localhost:8080/"
        },
        "id": "tUVYGwmWPTFw",
        "outputId": "9684edd2-8dce-4761-e129-84edce5f5970"
      },
      "execution_count": null,
      "outputs": [
        {
          "output_type": "execute_result",
          "data": {
            "text/plain": [
              "11.568539981268064"
            ]
          },
          "metadata": {},
          "execution_count": 6
        }
      ]
    },
    {
      "cell_type": "code",
      "source": [
        "sps.f_oneway(chi_sample, uniform_sample, norm_sample)"
      ],
      "metadata": {
        "colab": {
          "base_uri": "https://localhost:8080/"
        },
        "id": "GJCQK_q_STKA",
        "outputId": "06c2b825-291d-4069-a696-b0e08b90a656"
      },
      "execution_count": null,
      "outputs": [
        {
          "output_type": "execute_result",
          "data": {
            "text/plain": [
              "F_onewayResult(statistic=0.2958352982660169, pvalue=0.7441731542012198)"
            ]
          },
          "metadata": {},
          "execution_count": 8
        }
      ]
    },
    {
      "cell_type": "code",
      "source": [
        "def tfreq(distr, n):\n",
        "  chi_hist = np.histogram(uniform_sample, bins = n)\n",
        "  tfreq = []\n",
        "\n",
        "  if distr == 'chi2':\n",
        "    tfreq.append(250*(sps.chi2.cdf(chi_hist[1][1], 10)))\n",
        "    for i in range(1, n - 1):\n",
        "      probability = sps.chi2.cdf(chi_hist[1][i+1], 10) - sps.chi2.cdf(chi_hist[1][i], 10)\n",
        "      tfreq.append(250*probability)\n",
        "    tfreq.append(250*(1 - sps.chi2.cdf(chi_hist[1][n - 1], 10)))\n",
        "\n",
        "  elif distr == 'norm':\n",
        "    tfreq.append(150*(sps.norm.cdf(chi_hist[1][1], loc = 10, scale = 4.47)))\n",
        "    for i in range(1, n - 1):\n",
        "      probability = sps.norm.cdf(chi_hist[1][i+1], loc = 10, scale = 4.47) - sps.norm.cdf(chi_hist[1][i], loc = 10, scale = 4.47)\n",
        "      tfreq.append(150*probability)\n",
        "    tfreq.append(150*(1 - sps.norm.cdf(chi_hist[1][n - 1], loc = 10, scale = 4.47)))\n",
        "\n",
        "  elif distr == 'uniform':\n",
        "    tfreq.append(150*(sps.uniform.cdf(chi_hist[1][1], loc = chi_hist[1][0], scale = chi_hist[1][n] - chi_hist[1][0])))\n",
        "    for i in range(1, n - 1):\n",
        "      probability = sps.uniform.cdf(chi_hist[1][i+1], loc = chi_hist[1][0], scale = chi_hist[1][n] - chi_hist[1][0]) - sps.uniform.cdf(chi_hist[1][i], loc = chi_hist[1][0], scale = chi_hist[1][n] - chi_hist[1][0])\n",
        "      tfreq.append(150*probability)\n",
        "    tfreq.append(150*(1 - sps.uniform.cdf(chi_hist[1][n - 1], loc = chi_hist[1][0], scale = chi_hist[1][n] - chi_hist[1][0])))\n",
        "\n",
        "  np_tfreq = np.asarray(tfreq)\n",
        "  return np_tfreq"
      ],
      "metadata": {
        "id": "Ol5yR_ffZyJK"
      },
      "execution_count": null,
      "outputs": []
    },
    {
      "cell_type": "code",
      "source": [
        "np.histogram(uniform_sample, bins = 8)"
      ],
      "metadata": {
        "colab": {
          "base_uri": "https://localhost:8080/"
        },
        "id": "ZJD_gK1OJKK1",
        "outputId": "985ad26f-f9e1-4d95-f63b-ace0e1fee1e8"
      },
      "execution_count": null,
      "outputs": [
        {
          "output_type": "execute_result",
          "data": {
            "text/plain": [
              "(array([32, 26, 41, 22, 34, 28, 33, 34]),\n",
              " array([ 5.01165851,  6.24796116,  7.4842638 ,  8.72056645,  9.95686909,\n",
              "        11.19317173, 12.42947438, 13.66577702, 14.90207966]))"
            ]
          },
          "metadata": {},
          "execution_count": 4
        }
      ]
    },
    {
      "cell_type": "code",
      "source": [
        "tfreq('chi2', 8)"
      ],
      "metadata": {
        "colab": {
          "base_uri": "https://localhost:8080/"
        },
        "id": "gGD8VOZy6JH-",
        "outputId": "ed6bf501-0ce8-481f-f8cd-86c959f69416"
      },
      "execution_count": null,
      "outputs": [
        {
          "output_type": "execute_result",
          "data": {
            "text/plain": [
              "array([51.49547407, 28.7365474 , 30.06490512, 28.63171244, 25.40445967,\n",
              "       21.33170178, 17.13781129, 47.19738823])"
            ]
          },
          "metadata": {},
          "execution_count": 14
        }
      ]
    },
    {
      "cell_type": "code",
      "source": [
        "sps.chisquare([32, 26, 41, 22, 34, 28, 33, 34], [51.49547407, 28.7365474 , 30.06490512, 28.63171244, 25.40445967,\n",
        "       21.33170178, 17.13781129, 47.19738823])"
      ],
      "metadata": {
        "colab": {
          "base_uri": "https://localhost:8080/"
        },
        "id": "HczfnzSeaLX8",
        "outputId": "b33dd93b-d111-4706-911f-e501d1715aaf"
      },
      "execution_count": null,
      "outputs": [
        {
          "output_type": "execute_result",
          "data": {
            "text/plain": [
              "Power_divergenceResult(statistic=36.51920978075147, pvalue=5.78393104649191e-06)"
            ]
          },
          "metadata": {},
          "execution_count": 15
        }
      ]
    },
    {
      "cell_type": "code",
      "source": [
        "sps.kstest(chi_sample, uniform_sample)"
      ],
      "metadata": {
        "colab": {
          "base_uri": "https://localhost:8080/"
        },
        "id": "KODnqkj6TWLG",
        "outputId": "f3e239d2-f449-46f7-a272-df2098cdd93b"
      },
      "execution_count": null,
      "outputs": [
        {
          "output_type": "execute_result",
          "data": {
            "text/plain": [
              "KstestResult(statistic=0.14533333333333334, pvalue=0.03475765256979613)"
            ]
          },
          "metadata": {},
          "execution_count": 16
        }
      ]
    },
    {
      "cell_type": "code",
      "source": [
        "chi_sample2 = sps.chi2(10).rvs(250)"
      ],
      "metadata": {
        "id": "kl9CNa0WdY3j"
      },
      "execution_count": null,
      "outputs": []
    },
    {
      "cell_type": "code",
      "source": [
        "sps.wilcoxon(chi_sample2, chi_sample3)"
      ],
      "metadata": {
        "colab": {
          "base_uri": "https://localhost:8080/"
        },
        "id": "f2psjiY5dNV7",
        "outputId": "4923b374-3f0f-491c-aee5-d2e9a96b02a0"
      },
      "execution_count": null,
      "outputs": [
        {
          "output_type": "execute_result",
          "data": {
            "text/plain": [
              "WilcoxonResult(statistic=15292.0, pvalue=0.729671667803019)"
            ]
          },
          "metadata": {},
          "execution_count": 22
        }
      ]
    },
    {
      "cell_type": "code",
      "source": [
        "sps.mannwhitneyu(chi_sample, uniform_sample)"
      ],
      "metadata": {
        "colab": {
          "base_uri": "https://localhost:8080/"
        },
        "id": "NFJ07QyxeI-6",
        "outputId": "abd4deed-f894-4c20-f18f-5ac5b77c4a35"
      },
      "execution_count": null,
      "outputs": [
        {
          "output_type": "execute_result",
          "data": {
            "text/plain": [
              "MannwhitneyuResult(statistic=18083.0, pvalue=0.5515815069400194)"
            ]
          },
          "metadata": {},
          "execution_count": 23
        }
      ]
    },
    {
      "cell_type": "code",
      "source": [
        "#fig = plt.figure(figsize=(8,4))\n",
        "#ax1 = fig.add_subplot(2, 2, 1)\n",
        "#ax2 = fig.add_subplot(2, 2, 2)\n",
        "#ax3 = fig.add_subplot(2, 2, 3)\n",
        "#ax4 = fig.add_subplot(2, 2, 4)\n",
        "x1 = np.linspace(sps.tmean(chi_sample) - 2*1.96, sps.tmean(chi_sample) + 2*1.96, 100)\n",
        "x2 = np.linspace(sps.tmean(uniform_sample) - 1.19*1.96, sps.tmean(uniform_sample) + 1.19*1.96, 100)\n",
        "x3 = np.linspace(sps.tmean(norm_sample) - 0.4*1.96, sps.tmean(norm_sample) + 0.4*1.96, 100)\n",
        "#ax1.hist(chi_sample, bins=5)\n",
        "#ax2.hist(chi_sample, bins=10)\n",
        "#ax3.hist(chi_sample, bins=15)\n",
        "#ax4.hist(chi_sample, bins=8)\n",
        "#plt.hist(chi_sample, bins = 8, color = 'violet', alpha = 0.7, label = 'chi2(10)')\n",
        "#plt.hist(uniform_sample, bins = 8, color = 'green', alpha = 0.5, label = 'uniform(5, 15)')\n",
        "#x = np.linspace(min(chi_sample), max(chi_sample), 150)\n",
        "#plt.plot(np.sort(chi_sample), np.linspace(0, 1, 150), color = 'violet', label = 'chi2(10)')\n",
        "#plt.plot(np.sort(uniform_sample), np.linspace(0, 1, 250), color = 'green', label = 'uniform(5, 15)')\n",
        "y1 = np.linspace(5, 5, 100)\n",
        "y2 = np.linspace(7, 7, 100)\n",
        "y3 = np.linspace(9, 9, 100)\n",
        "plt.plot(x1, y1, label = 'm1')\n",
        "plt.plot(x2, y2, label = 'm2')\n",
        "plt.plot(x3, y3, label = 'm3')\n",
        "#plt.plot(x, sps.uniform.cdf(x, loc = min(x), scale = max(x) - min(x)), color = 'green', alpha = 0.7, label = 'uniform cdf')\n",
        "#plt.plot(x, sps.chi2.cdf(x, 5), color = 'violet', alpha = 0.8, label = 'chi2(5) cdf')\n",
        "#plt.boxplot((chi_sample, uniform_sample, norm_sample), vert = False, labels = ('X1', 'X2', 'X3'))\n",
        "#plt.boxplot(norm_sample)\n",
        "plt.legend(loc = 'best')\n",
        "plt.show()"
      ],
      "metadata": {
        "id": "urmzZzDdXw7M"
      },
      "execution_count": null,
      "outputs": []
    },
    {
      "cell_type": "code",
      "source": [
        "import pandas as pd\n",
        "\n",
        "df = pd.DataFrame({'sample': gen_sample, 'group': np.repeat(['a', 'a', 'b', 'c', 'c'], 50)})\n",
        "\n"
      ],
      "metadata": {
        "id": "KlvlD5l5QRzO"
      },
      "execution_count": null,
      "outputs": []
    },
    {
      "cell_type": "code",
      "source": [
        "import statsmodels.stats.multicomp as ssm\n",
        "\n",
        "print(ssm.pairwise_tukeyhsd(endog=df['sample'], groups=df['group']))"
      ],
      "metadata": {
        "colab": {
          "base_uri": "https://localhost:8080/"
        },
        "id": "efPTASBuRaxE",
        "outputId": "ff2b4d75-e4c3-4ab6-e632-860e428b6f0d"
      },
      "execution_count": null,
      "outputs": [
        {
          "output_type": "stream",
          "name": "stdout",
          "text": [
            "Multiple Comparison of Means - Tukey HSD, FWER=0.05\n",
            "===================================================\n",
            "group1 group2 meandiff p-adj   lower  upper  reject\n",
            "---------------------------------------------------\n",
            "     a      b   0.0989    0.9 -1.2907 1.4884  False\n",
            "     a      c  -0.2968 0.7915 -1.4313 0.8378  False\n",
            "     b      c  -0.3956 0.7603 -1.7852 0.9939  False\n",
            "---------------------------------------------------\n"
          ]
        }
      ]
    },
    {
      "cell_type": "code",
      "source": [
        "!pip install xlrd==1.2.0"
      ],
      "metadata": {
        "id": "MH7FJ_xmxnar",
        "colab": {
          "base_uri": "https://localhost:8080/"
        },
        "outputId": "5d832b71-cb3f-4e0e-f87f-2f93aa2e3b32"
      },
      "execution_count": null,
      "outputs": [
        {
          "output_type": "stream",
          "name": "stdout",
          "text": [
            "Looking in indexes: https://pypi.org/simple, https://us-python.pkg.dev/colab-wheels/public/simple/\n",
            "Collecting xlrd==1.2.0\n",
            "  Downloading xlrd-1.2.0-py2.py3-none-any.whl (103 kB)\n",
            "\u001b[K     |████████████████████████████████| 103 kB 5.4 MB/s \n",
            "\u001b[?25hInstalling collected packages: xlrd\n",
            "  Attempting uninstall: xlrd\n",
            "    Found existing installation: xlrd 1.1.0\n",
            "    Uninstalling xlrd-1.1.0:\n",
            "      Successfully uninstalled xlrd-1.1.0\n",
            "Successfully installed xlrd-1.2.0\n"
          ]
        }
      ]
    },
    {
      "cell_type": "code",
      "source": [
        "sample_sal = pandas.read_excel('/data_matstat_K5.xls', sheet_name = 'A - aaup')['A7'].tolist()"
      ],
      "metadata": {
        "id": "CNsZFMCNv8IG"
      },
      "execution_count": null,
      "outputs": []
    },
    {
      "cell_type": "code",
      "source": [
        "np.histogram(sample_calories, bins = 8)"
      ],
      "metadata": {
        "id": "E07MtJAGzA3G",
        "colab": {
          "base_uri": "https://localhost:8080/"
        },
        "outputId": "04f3edbf-4cc4-436a-a106-db6a20bc4e44"
      },
      "execution_count": null,
      "outputs": [
        {
          "output_type": "execute_result",
          "data": {
            "text/plain": [
              "(array([ 56, 158,  73,  25,   1,   1,   0,   1]),\n",
              " array([ 445.2  , 1222.325, 1999.45 , 2776.575, 3553.7  , 4330.825,\n",
              "        5107.95 , 5885.075, 6662.2  ]))"
            ]
          },
          "metadata": {},
          "execution_count": 5
        }
      ]
    },
    {
      "cell_type": "code",
      "source": [
        "np.around(np.histogram(sample_calories, bins = 8)[0]/315, decimals=4)"
      ],
      "metadata": {
        "colab": {
          "base_uri": "https://localhost:8080/"
        },
        "id": "0GlHFF7bCSmT",
        "outputId": "a3edcc64-f883-41dd-a3e7-b353a1ca1918"
      },
      "execution_count": null,
      "outputs": [
        {
          "output_type": "execute_result",
          "data": {
            "text/plain": [
              "array([0.1778, 0.5016, 0.2317, 0.0794, 0.0032, 0.0032, 0.    , 0.0032])"
            ]
          },
          "metadata": {},
          "execution_count": 28
        }
      ]
    },
    {
      "cell_type": "code",
      "source": [
        "cal_mean = sps.tmean(sample_calories)\n",
        "cal_var = sps.tvar(sample_calories)\n",
        "cal_std = sps.tstd(sample_calories)\n",
        "cal_std"
      ],
      "metadata": {
        "colab": {
          "base_uri": "https://localhost:8080/"
        },
        "id": "lPtAS_eGEDMU",
        "outputId": "6f330f7c-cacc-47b7-c08d-51639e295457"
      },
      "execution_count": null,
      "outputs": [
        {
          "output_type": "execute_result",
          "data": {
            "text/plain": [
              "680.3474348482101"
            ]
          },
          "metadata": {},
          "execution_count": 4
        }
      ]
    },
    {
      "cell_type": "code",
      "source": [
        "def group_probs():\n",
        "  boundaries = np.histogram(sample_calories, bins = 8)[1]\n",
        "  probs = []\n",
        "  probs.append(sps.norm.cdf(boundaries[1], cal_mean, cal_std))\n",
        "  for i in range(1, 7):\n",
        "    prob = sps.norm.cdf(boundaries[i+1], cal_mean, cal_std) - sps.norm.cdf(boundaries[i], cal_mean, cal_std)\n",
        "    probs.append(prob)\n",
        "  probs.append(1 - sps.norm.cdf(boundaries[7], cal_mean, cal_std))\n",
        "  np_probs = np.asarray(probs)\n",
        "  return np_probs\n",
        "\n",
        "group_probs()*315"
      ],
      "metadata": {
        "colab": {
          "base_uri": "https://localhost:8080/"
        },
        "id": "cBQi1sTrEkeT",
        "outputId": "d8aae112-56e2-4f6d-8e7d-fc0f83e63f73"
      },
      "execution_count": null,
      "outputs": [
        {
          "output_type": "execute_result",
          "data": {
            "text/plain": [
              "array([6.27753788e+01, 1.31635536e+02, 9.69993814e+01, 2.20451446e+01,\n",
              "       1.51377481e+00, 3.06059481e-02, 1.78103042e-04, 2.93440787e-07])"
            ]
          },
          "metadata": {},
          "execution_count": 13
        }
      ]
    },
    {
      "cell_type": "code",
      "source": [
        "sps.chisquare([ 56, 158,  73,  25+   1+   1+   0+   1], [6.27753788e+01, 1.31635536e+02, 9.69993814e+01, 2.20451446e+01+\n",
        "       1.51377481e+00+ 3.06059481e-02+ 1.78103042e-04+ 2.93440787e-07])"
      ],
      "metadata": {
        "colab": {
          "base_uri": "https://localhost:8080/"
        },
        "id": "eBVTCOb6nO4k",
        "outputId": "9aa8f26a-6e9a-4340-c409-c7dd3b944671"
      },
      "execution_count": null,
      "outputs": [
        {
          "output_type": "execute_result",
          "data": {
            "text/plain": [
              "Power_divergenceResult(statistic=12.77406344306531, pvalue=0.005151577089097738)"
            ]
          },
          "metadata": {},
          "execution_count": 15
        }
      ]
    },
    {
      "cell_type": "code",
      "source": [
        "sps.jarque_bera(sample_calories)"
      ],
      "metadata": {
        "colab": {
          "base_uri": "https://localhost:8080/"
        },
        "id": "vVD1qDCCumVM",
        "outputId": "142f4a5f-410a-48a7-e571-fcb691d4dce0"
      },
      "execution_count": null,
      "outputs": [
        {
          "output_type": "execute_result",
          "data": {
            "text/plain": [
              "Jarque_beraResult(statistic=995.2198328770955, pvalue=0.0)"
            ]
          },
          "metadata": {},
          "execution_count": 16
        }
      ]
    },
    {
      "cell_type": "code",
      "source": [
        "sps.norm.cdf(1999.45, loc=cal_mean, scale=cal_var) - sps.norm.cdf(1222.325, loc=cal_mean, scale=cal_var)"
      ],
      "metadata": {
        "colab": {
          "base_uri": "https://localhost:8080/"
        },
        "id": "WpvTvgl3Hy_M",
        "outputId": "91568141-bea5-42f8-c7ec-f52e9a3d15f8"
      },
      "execution_count": null,
      "outputs": [
        {
          "output_type": "execute_result",
          "data": {
            "text/plain": [
              "0.000669791075931514"
            ]
          },
          "metadata": {},
          "execution_count": 14
        }
      ]
    },
    {
      "cell_type": "code",
      "source": [
        "hist_sal = np.histogram(sample_sal, bins = 100)\n",
        "hist_sal_dist = sps.rv_histogram(hist_sal, False)"
      ],
      "metadata": {
        "id": "3lL3oEFUwO5b"
      },
      "execution_count": null,
      "outputs": []
    },
    {
      "cell_type": "code",
      "source": [],
      "metadata": {
        "id": "F1BwSoRcOhT8"
      },
      "execution_count": null,
      "outputs": []
    },
    {
      "cell_type": "code",
      "source": [
        "x = np.linspace(min(sample_calories), max(sample_calories), 100)\n",
        "plt.plot(x, sps.norm.pdf(x, loc=cal_mean, scale=cal_std), color='red')\n",
        "plt.hist(sample_calories, bins=8, density=True)\n",
        "#plt.hist(sample_calories, bins=8, weights=np.ones_like(sample_calories) / len(sample_calories))\n",
        "plt.show()"
      ],
      "metadata": {
        "id": "EpwIHjf3wnY2"
      },
      "execution_count": null,
      "outputs": []
    },
    {
      "cell_type": "code",
      "source": [
        "sps.tmean(sample_calories)"
      ],
      "metadata": {
        "colab": {
          "base_uri": "https://localhost:8080/"
        },
        "id": "9n91PXQxcJHd",
        "outputId": "719639b8-47ca-4e32-bf55-6652f78c30ce"
      },
      "execution_count": null,
      "outputs": [
        {
          "output_type": "execute_result",
          "data": {
            "text/plain": [
              "1796.654603174603"
            ]
          },
          "metadata": {},
          "execution_count": 32
        }
      ]
    },
    {
      "cell_type": "code",
      "source": [
        "sps.tvar(sample_calories)"
      ],
      "metadata": {
        "colab": {
          "base_uri": "https://localhost:8080/"
        },
        "id": "ClOgkUHXd7hN",
        "outputId": "44e0f078-5ff4-429e-9f01-db08fb144205"
      },
      "execution_count": null,
      "outputs": [
        {
          "output_type": "execute_result",
          "data": {
            "text/plain": [
              "462872.6321045395"
            ]
          },
          "metadata": {},
          "execution_count": 37
        }
      ]
    },
    {
      "cell_type": "code",
      "source": [
        "sps.ttest_1samp(sample_calories, 2000)"
      ],
      "metadata": {
        "colab": {
          "base_uri": "https://localhost:8080/"
        },
        "id": "pb3E6Cs8bybx",
        "outputId": "09380b21-3cfc-4fac-960c-d921e3f688e4"
      },
      "execution_count": null,
      "outputs": [
        {
          "output_type": "execute_result",
          "data": {
            "text/plain": [
              "Ttest_1sampResult(statistic=-5.304676094267186, pvalue=2.1351342582879566e-07)"
            ]
          },
          "metadata": {},
          "execution_count": 36
        }
      ]
    },
    {
      "cell_type": "code",
      "source": [
        "(314)*sps.tvar(sample_calories)/550000"
      ],
      "metadata": {
        "colab": {
          "base_uri": "https://localhost:8080/"
        },
        "id": "EBtRcY8RlNHc",
        "outputId": "72e29439-88b1-400d-9983-ce430529b836"
      },
      "execution_count": null,
      "outputs": [
        {
          "output_type": "execute_result",
          "data": {
            "text/plain": [
              "264.2581936015007"
            ]
          },
          "metadata": {},
          "execution_count": 44
        }
      ]
    },
    {
      "cell_type": "code",
      "source": [
        "2*min(sps.chi2.cdf(264.2581936015007, 314), 1 - sps.chi2.cdf(264.2581936015007, 314))"
      ],
      "metadata": {
        "colab": {
          "base_uri": "https://localhost:8080/"
        },
        "id": "Pw9_K43GmdBW",
        "outputId": "1632155f-d587-4951-9a9f-cafdfa6996d2"
      },
      "execution_count": null,
      "outputs": [
        {
          "output_type": "execute_result",
          "data": {
            "text/plain": [
              "0.03811189147410265"
            ]
          },
          "metadata": {},
          "execution_count": 45
        }
      ]
    },
    {
      "cell_type": "code",
      "source": [
        "cum_freq = sps.cumfreq(sample_fat, numbins=8, defaultreallimits=(14.4, 235.9))\n",
        "cum_freq"
      ],
      "metadata": {
        "colab": {
          "base_uri": "https://localhost:8080/"
        },
        "id": "WIGlXYRkJ9m5",
        "outputId": "cae20616-43fd-48f8-af2a-17644c4e2cbb"
      },
      "execution_count": null,
      "outputs": [
        {
          "output_type": "execute_result",
          "data": {
            "text/plain": [
              "CumfreqResult(cumcount=array([ 36., 147., 242., 289., 304., 312., 314., 315.]), lowerlimit=14.4, binsize=27.6875, extrapoints=0)"
            ]
          },
          "metadata": {},
          "execution_count": 5
        }
      ]
    },
    {
      "cell_type": "code",
      "source": [
        "rel_cum_freq = cum_freq.cumcount / 315"
      ],
      "metadata": {
        "id": "7QC8ErcoeU3c"
      },
      "execution_count": null,
      "outputs": []
    },
    {
      "cell_type": "code",
      "source": [
        "rel_freq = sps.relfreq(sample_fat, numbins=8, defaultreallimits=(14.4, 235.9))\n",
        "rel_freq"
      ],
      "metadata": {
        "colab": {
          "base_uri": "https://localhost:8080/"
        },
        "id": "w2U_8mR9HKdO",
        "outputId": "3269fc77-9185-48ea-d042-1299b6ad5768"
      },
      "execution_count": null,
      "outputs": [
        {
          "output_type": "execute_result",
          "data": {
            "text/plain": [
              "RelfreqResult(frequency=array([0.11428571, 0.35238095, 0.3015873 , 0.14920635, 0.04761905,\n",
              "       0.02539683, 0.00634921, 0.0031746 ]), lowerlimit=14.4, binsize=27.6875, extrapoints=0)"
            ]
          },
          "metadata": {},
          "execution_count": 9
        }
      ]
    },
    {
      "cell_type": "code",
      "source": [
        "freq = rel_freq.frequency * 315"
      ],
      "metadata": {
        "id": "zFZvCZkUx3ux"
      },
      "execution_count": null,
      "outputs": []
    },
    {
      "cell_type": "code",
      "source": [
        "x = rel_freq.lowerlimit + np.linspace(0, rel_freq.binsize*rel_freq.frequency.size, rel_freq.frequency.size)"
      ],
      "metadata": {
        "id": "Gx2fQfdMe7pT"
      },
      "execution_count": null,
      "outputs": []
    },
    {
      "cell_type": "code",
      "source": [
        "fig = plt.figure(figsize=(10,10))\n",
        "ax1 = fig.add_subplot(2, 2, 1)\n",
        "ax1.bar(x, rel_cum_freq, width=rel_freq.binsize)\n",
        "ax1.plot(x, rel_cum_freq, color='red')\n",
        "ax1.set_title('Cumulative relative frequency')\n",
        "ax1.set_xlim([0, x.max()+14])\n",
        "plt.show()"
      ],
      "metadata": {
        "id": "D9lman5fe7tP"
      },
      "execution_count": null,
      "outputs": []
    },
    {
      "cell_type": "code",
      "source": [
        "plt.plot(np.sort(sample_fat), np.linspace(0, 1, 315, endpoint=False))\n",
        "plt.show()"
      ],
      "metadata": {
        "id": "3Uo52XXAqhSx"
      },
      "execution_count": null,
      "outputs": []
    },
    {
      "cell_type": "code",
      "source": [
        "sps.bayes_mvs(sample_calories, 0.9)"
      ],
      "metadata": {
        "colab": {
          "base_uri": "https://localhost:8080/"
        },
        "id": "B7OcG5nhtmxx",
        "outputId": "93680309-9ae1-4dbf-a80a-7b714a25bc85"
      },
      "execution_count": null,
      "outputs": [
        {
          "output_type": "execute_result",
          "data": {
            "text/plain": [
              "(Mean(statistic=1796.654603174603, minmax=(1733.4154664074752, 1859.8937399417307)),\n",
              " Variance(statistic=465839.76436161983, minmax=(407891.4098866664, 530545.912593546)),\n",
              " Std_dev(statistic=681.9778775165637, minmax=(638.663769041791, 728.3858267385122)))"
            ]
          },
          "metadata": {},
          "execution_count": 6
        }
      ]
    },
    {
      "cell_type": "code",
      "source": [
        "!pip install xlrd==1.2.0\n",
        "\n",
        "import pandas as pd\n",
        "\n",
        "sample_calories = np.array(pd.read_excel('/data_matstat_K5.xls', sheet_name = 'C - plasma')['C6'].tolist())\n",
        "\n",
        "sample_fat = pd.read_excel('/data_matstat_K5.xls', sheet_name = 'C - plasma')['C7'].tolist()\n",
        "\n",
        "sample_fiber = pd.read_excel('/data_matstat_K5.xls', sheet_name = 'C - plasma')['C8'].tolist()\n",
        "\n",
        "sample_carotene = pd.read_excel('/data_matstat_K5.xls', sheet_name = 'C - plasma')['C13'].tolist()\n",
        "\n",
        "sample_retinol = pd.read_excel('/data_matstat_K5.xls', sheet_name = 'C - plasma')['C14'].tolist()\n",
        "\n",
        "sample_sex = pd.read_excel('/data_matstat_K5.xls', sheet_name = 'C - plasma')['C2'].tolist()\n",
        "\n",
        "sample_smoking = pd.read_excel('/data_matstat_K5.xls', sheet_name = 'C - plasma')['C3'].tolist()\n",
        "\n",
        "sample_quetelet = pd.read_excel('/data_matstat_K5.xls', sheet_name = 'C - plasma')['C4'].tolist()"
      ],
      "metadata": {
        "id": "_vp4JakO0PkT",
        "colab": {
          "base_uri": "https://localhost:8080/"
        },
        "outputId": "3b32e65c-d438-4fb8-8616-cf812de16581"
      },
      "execution_count": null,
      "outputs": [
        {
          "output_type": "stream",
          "name": "stdout",
          "text": [
            "Looking in indexes: https://pypi.org/simple, https://us-python.pkg.dev/colab-wheels/public/simple/\n",
            "Requirement already satisfied: xlrd==1.2.0 in /usr/local/lib/python3.8/dist-packages (1.2.0)\n"
          ]
        }
      ]
    },
    {
      "cell_type": "code",
      "source": [
        "sample_calories = np.array(pd.read_excel('/data_matstat_K5.xls', sheet_name = 'C - plasma')['C6'].tolist())\n",
        "sample_carotene = np.array(sample_carotene)\n",
        "sample_quetelet = np.array(sample_quetelet)"
      ],
      "metadata": {
        "id": "dgHVSWmxDH0W"
      },
      "execution_count": null,
      "outputs": []
    },
    {
      "cell_type": "code",
      "source": [
        "reg = sps.linregress(sample_calories, sample_carotene)"
      ],
      "metadata": {
        "id": "dw2vBRINvjhd"
      },
      "execution_count": null,
      "outputs": []
    },
    {
      "cell_type": "code",
      "source": [
        "x = np.array(sample_calories)\n",
        "y = np.array(sample_carotene)\n",
        "y_pred = reg.slope*x + reg.intercept\n",
        "res_sum = 0\n",
        "reg_sum = 0\n",
        "total_sum = 0\n",
        "x_sq_sum = 0\n",
        "for i in range (0, 315):\n",
        "  res_sum+=(y[i] - y_pred[i])**2\n",
        "  reg_sum+=(y_pred[i] - np.mean(y))**2\n",
        "  total_sum+=(y[i] - np.mean(y))**2\n",
        "  x_sq_sum+=(x[i])**2\n",
        "res_var = res_sum/315\n",
        "reg_var = reg_sum/315\n",
        "total_var = total_sum/315\n",
        "print('reg_var =', reg_var, 'res_var = ', res_var, 'total_var = ', total_var, 'x_sq_sum = ', x_sq_sum, 'x_var = ', np.var(x))"
      ],
      "metadata": {
        "colab": {
          "base_uri": "https://localhost:8080/"
        },
        "id": "xGspKqn5nA22",
        "outputId": "8ddddc42-39d1-4467-b26b-2a6bd853e731"
      },
      "execution_count": null,
      "outputs": [
        {
          "output_type": "stream",
          "name": "stdout",
          "text": [
            "reg_var = 16.462780398473033 res_var =  33366.516045502256 total_var =  33382.97882590072 x_sq_sum =  1162151851.8599994 x_var =  461403.1951772235\n"
          ]
        }
      ]
    },
    {
      "cell_type": "code",
      "source": [
        "def sqrt(x):\n",
        "  return x**(1/2)"
      ],
      "metadata": {
        "id": "G3U-KtQlzqXU"
      },
      "execution_count": null,
      "outputs": []
    },
    {
      "cell_type": "code",
      "source": [
        "sps.t.ppf(0.995, 313)"
      ],
      "metadata": {
        "colab": {
          "base_uri": "https://localhost:8080/"
        },
        "id": "ddHz0TPTzxSF",
        "outputId": "64a11b37-cbb9-44ca-d1ba-1919fba5ee09"
      },
      "execution_count": null,
      "outputs": [
        {
          "output_type": "execute_result",
          "data": {
            "text/plain": [
              "2.5916276998084755"
            ]
          },
          "metadata": {},
          "execution_count": 9
        }
      ]
    },
    {
      "cell_type": "code",
      "source": [
        "reg.slope + sps.t.ppf(0.95, 313)*sqrt(res_var)*sqrt(1/(315*np.var(x)))"
      ],
      "metadata": {
        "colab": {
          "base_uri": "https://localhost:8080/"
        },
        "id": "90t2xpqtw-NO",
        "outputId": "2d5c259c-e4fb-486e-804f-e1ab0eb793bc"
      },
      "execution_count": null,
      "outputs": [
        {
          "output_type": "execute_result",
          "data": {
            "text/plain": [
              "0.019022966390964617"
            ]
          },
          "metadata": {},
          "execution_count": 24
        }
      ]
    },
    {
      "cell_type": "code",
      "source": [
        "x = np.linspace(min(sample_calories), max(sample_calories), 100)\n",
        "f =  reg.slope*x + reg.intercept\n",
        "f_low = f - sps.t.ppf(0.95, 313)*sqrt(res_var*(1/315 + (x - np.mean(sample_calories))**2/(315*np.var(sample_calories))))\n",
        "f_high = f + sps.t.ppf(0.95, 313)*sqrt(res_var*(1/315 + (x - np.mean(sample_calories))**2/(315*np.var(sample_calories))))\n",
        "plt.scatter(sample_calories, sample_carotene)\n",
        "plt.plot(x, f, color = 'red')\n",
        "plt.plot(x, f_low, color = 'green')\n",
        "plt.plot(x, f_high, color = 'green')"
      ],
      "metadata": {
        "colab": {
          "base_uri": "https://localhost:8080/",
          "height": 282
        },
        "id": "2o21lE1cFYBv",
        "outputId": "fcb2b2e9-22cb-4b95-9a15-3c1e941abd22"
      },
      "execution_count": null,
      "outputs": [
        {
          "output_type": "execute_result",
          "data": {
            "text/plain": [
              "[<matplotlib.lines.Line2D at 0x7f09c7688100>]"
            ]
          },
          "metadata": {},
          "execution_count": 45
        },
        {
          "output_type": "display_data",
          "data": {
            "text/plain": [
              "<Figure size 432x288 with 1 Axes>"
            ],
            "image/png": "[encoded data removed]"
          },
          "metadata": {
            "needs_background": "light"
          }
        }
      ]
    },
    {
      "cell_type": "code",
      "source": [
        "plt.scatter(x, y - y_pred)"
      ],
      "metadata": {
        "colab": {
          "base_uri": "https://localhost:8080/",
          "height": 282
        },
        "id": "gVCgALnhJ5kP",
        "outputId": "6b84348b-98df-4fa6-e96d-cf7b8386529a"
      },
      "execution_count": null,
      "outputs": [
        {
          "output_type": "execute_result",
          "data": {
            "text/plain": [
              "<matplotlib.collections.PathCollection at 0x7f8e9f4f4550>"
            ]
          },
          "metadata": {},
          "execution_count": 33
        },
        {
          "output_type": "display_data",
          "data": {
            "text/plain": [
              "<Figure size 432x288 with 1 Axes>"
            ],
            "image/png": "[encoded data removed]"
          },
          "metadata": {
            "needs_background": "light"
          }
        }
      ]
    },
    {
      "cell_type": "code",
      "source": [
        "reg"
      ],
      "metadata": {
        "colab": {
          "base_uri": "https://localhost:8080/"
        },
        "id": "12BpCpoCLAFX",
        "outputId": "2a8665f4-c23f-49a0-feea-2edd72fdaffc"
      },
      "execution_count": null,
      "outputs": [
        {
          "output_type": "execute_result",
          "data": {
            "text/plain": [
              "LinregressResult(slope=-0.005973258278958722, intercept=200.6239454749055, rvalue=-0.02220695686723203, pvalue=0.6946031791352822, stderr=0.015199978146706481, intercept_stderr=29.19571569951552)"
            ]
          },
          "metadata": {},
          "execution_count": 34
        }
      ]
    },
    {
      "cell_type": "code",
      "source": [
        "F = np.matrix([np.ones(315), sample_calories, sample_calories**2]).T\n",
        "betas = np.matmul(np.matmul(np.linalg.inv(np.matmul(F.T, F)), F.T), sample_carotene)\n",
        "beta0 = betas.item([0][0])\n",
        "beta1 = betas.item([1][0])\n",
        "beta2 = betas.item([2][0])"
      ],
      "metadata": {
        "id": "xADtu-scgYsL"
      },
      "execution_count": null,
      "outputs": []
    },
    {
      "cell_type": "code",
      "source": [
        "np.matmul(F.T, F)"
      ],
      "metadata": {
        "colab": {
          "base_uri": "https://localhost:8080/"
        },
        "id": "p9cD9n69XgRt",
        "outputId": "78f8049a-1541-4e48-a2b1-0513923d04f1"
      },
      "execution_count": null,
      "outputs": [
        {
          "output_type": "execute_result",
          "data": {
            "text/plain": [
              "matrix([[3.15000000e+02, 5.65946200e+05, 1.16215185e+09],\n",
              "        [5.65946200e+05, 1.16215185e+09, 2.78230225e+12],\n",
              "        [1.16215185e+09, 2.78230225e+12, 8.07001934e+15]])"
            ]
          },
          "metadata": {},
          "execution_count": 11
        }
      ]
    },
    {
      "cell_type": "code",
      "source": [
        "betas"
      ],
      "metadata": {
        "colab": {
          "base_uri": "https://localhost:8080/"
        },
        "id": "AyiO2-aJm41q",
        "outputId": "159abc7c-b143-4bf0-921e-d65e77fbdae5"
      },
      "execution_count": null,
      "outputs": [
        {
          "output_type": "execute_result",
          "data": {
            "text/plain": [
              "matrix([[ 1.56531322e+02,  3.70710218e-02, -9.01050102e-06]])"
            ]
          },
          "metadata": {},
          "execution_count": 10
        }
      ]
    },
    {
      "cell_type": "code",
      "source": [
        "x = np.array(sample_calories)\n",
        "y = np.array(sample_carotene)\n",
        "y_pred = beta0 + beta1*x + beta2*x**2\n",
        "res_sum = 0\n",
        "reg_sum = 0\n",
        "total_sum = 0\n",
        "x_sq_sum = 0\n",
        "for i in range (0, 315):\n",
        "  res_sum+=(y[i] - y_pred[i])**2\n",
        "  reg_sum+=(y_pred[i] - np.mean(y))**2\n",
        "  total_sum+=(y[i] - np.mean(y))**2\n",
        "  x_sq_sum+=(x[i])**2\n",
        "res_var = res_sum/315\n",
        "reg_var = reg_sum/315\n",
        "total_var = total_sum/315\n",
        "print('reg_var =', reg_var, 'res_var = ', res_var, 'total_var = ', total_var, 'x_sq_sum = ', x_sq_sum, 'x_var = ', np.var(x))"
      ],
      "metadata": {
        "colab": {
          "base_uri": "https://localhost:8080/"
        },
        "id": "OL4xoL_zowiB",
        "outputId": "771fdbbb-d811-4e7b-d006-1b851bcc996c"
      },
      "execution_count": null,
      "outputs": [
        {
          "output_type": "stream",
          "name": "stdout",
          "text": [
            "reg_var = 136.46102080306048 res_var =  33246.517805097676 total_var =  33382.97882590072 x_sq_sum =  1162151851.8599994 x_var =  461403.1951772235\n"
          ]
        }
      ]
    },
    {
      "cell_type": "code",
      "source": [
        "from sympy import *\n",
        "init_printing()\n",
        "F = Matrix([np.ones(315), sample_calories, sample_calories**2]).T\n"
      ],
      "metadata": {
        "id": "eZYw4G9IYtGl"
      },
      "execution_count": null,
      "outputs": []
    },
    {
      "cell_type": "code",
      "source": [
        "F.T*F"
      ],
      "metadata": {
        "colab": {
          "base_uri": "https://localhost:8080/",
          "height": 78
        },
        "id": "hP8Gc-difYo0",
        "outputId": "e936dff3-81dd-4ca3-8375-303a3540ef4e"
      },
      "execution_count": null,
      "outputs": [
        {
          "output_type": "execute_result",
          "data": {
            "text/plain": [
              "⎡    315.0          565946.2         1162151851.86    ⎤\n",
              "⎢                                                     ⎥\n",
              "⎢  565946.2      1162151851.86      2782302252188.73  ⎥\n",
              "⎢                                                     ⎥\n",
              "⎣1162151851.86  2782302252188.73  8.07001933780826e+15⎦"
            ],
            "text/latex": "$\\displaystyle \\left[\\begin{matrix}315.0 & 565946.2 & 1162151851.86\\\\565946.2 & 1162151851.86 & 2782302252188.73\\\\1162151851.86 & 2782302252188.73 & 8.07001933780826 \\cdot 10^{15}\\end{matrix}\\right]$"
          },
          "metadata": {},
          "execution_count": 21
        }
      ]
    },
    {
      "cell_type": "code",
      "source": [
        "x = symbols('x')\n",
        "fi = Matrix([1, x, x**2])"
      ],
      "metadata": {
        "id": "kYvOEaphfh0H"
      },
      "execution_count": null,
      "outputs": []
    },
    {
      "cell_type": "code",
      "source": [
        "(fi.T*(F.T*F)**-1)*fi"
      ],
      "metadata": {
        "colab": {
          "base_uri": "https://localhost:8080/",
          "height": 58
        },
        "id": "QMBUFia4gNa4",
        "outputId": "f8cdf94a-08c8-4b58-a913-422759186a01"
      },
      "execution_count": null,
      "outputs": [
        {
          "output_type": "execute_result",
          "data": {
            "text/plain": [
              "⎡ 2 ⎛                      2                                               ⎞  \n",
              "⎣x ⋅⎝2.14789204198156e-15⋅x  - 1.02607464840796e-11⋅x + 1.05106468814094e-8⎠ +\n",
              "\n",
              "                      2     ⎛                        2                        \n",
              " 1.05106468814094e-8⋅x  + x⋅⎝- 1.02607464840796e-11⋅x  + 5.58971809662414e-8⋅x\n",
              "\n",
              "                      ⎞                                             ⎤\n",
              " - 6.25722273987861e-5⎠ - 6.25722273987861e-5⋅x + 0.0768176082044522⎦"
            ],
            "text/latex": "$\\displaystyle \\left[\\begin{matrix}x^{2} \\left(2.14789204198156 \\cdot 10^{-15} x^{2} - 1.02607464840796 \\cdot 10^{-11} x + 1.05106468814094 \\cdot 10^{-8}\\right) + 1.05106468814094 \\cdot 10^{-8} x^{2} + x \\left(- 1.02607464840796 \\cdot 10^{-11} x^{2} + 5.58971809662414 \\cdot 10^{-8} x - 6.25722273987861 \\cdot 10^{-5}\\right) - 6.25722273987861 \\cdot 10^{-5} x + 0.0768176082044522\\end{matrix}\\right]$"
          },
          "metadata": {},
          "execution_count": 63
        }
      ]
    },
    {
      "cell_type": "code",
      "source": [
        "res = (fi.T*(F.T*F)**-1)*fi"
      ],
      "metadata": {
        "id": "lsSuQpaGjpR0"
      },
      "execution_count": null,
      "outputs": []
    },
    {
      "cell_type": "code",
      "source": [
        "res"
      ],
      "metadata": {
        "colab": {
          "base_uri": "https://localhost:8080/",
          "height": 58
        },
        "id": "l0HO9G_YHmSG",
        "outputId": "4c4f78ec-a322-46bb-afde-cd2124841536"
      },
      "execution_count": null,
      "outputs": [
        {
          "output_type": "execute_result",
          "data": {
            "text/plain": [
              "⎡ 2 ⎛                      2                                               ⎞  \n",
              "⎣x ⋅⎝2.14789204198156e-15⋅x  - 1.02607464840796e-11⋅x + 1.05106468814094e-8⎠ +\n",
              "\n",
              "                      2     ⎛                        2                        \n",
              " 1.05106468814094e-8⋅x  + x⋅⎝- 1.02607464840796e-11⋅x  + 5.58971809662414e-8⋅x\n",
              "\n",
              "                      ⎞                                             ⎤\n",
              " - 6.25722273987861e-5⎠ - 6.25722273987861e-5⋅x + 0.0768176082044522⎦"
            ],
            "text/latex": "$\\displaystyle \\left[\\begin{matrix}x^{2} \\left(2.14789204198156 \\cdot 10^{-15} x^{2} - 1.02607464840796 \\cdot 10^{-11} x + 1.05106468814094 \\cdot 10^{-8}\\right) + 1.05106468814094 \\cdot 10^{-8} x^{2} + x \\left(- 1.02607464840796 \\cdot 10^{-11} x^{2} + 5.58971809662414 \\cdot 10^{-8} x - 6.25722273987861 \\cdot 10^{-5}\\right) - 6.25722273987861 \\cdot 10^{-5} x + 0.0768176082044522\\end{matrix}\\right]$"
          },
          "metadata": {},
          "execution_count": 19
        }
      ]
    },
    {
      "cell_type": "code",
      "source": [
        "res.evalf"
      ],
      "metadata": {
        "colab": {
          "base_uri": "https://localhost:8080/"
        },
        "id": "R7cVyGWYMPkt",
        "outputId": "4e9683c6-8008-40f2-fe16-c546867e3227"
      },
      "execution_count": null,
      "outputs": [
        {
          "output_type": "execute_result",
          "data": {
            "text/plain": [
              "<bound method MatrixOperations.evalf of Matrix([[x**2*(2.14789204198156e-15*x**2 - 1.02607464840796e-11*x + 1.05106468814094e-8) + 1.05106468814094e-8*x**2 + x*(-1.02607464840796e-11*x**2 + 5.58971809662414e-8*x - 6.25722273987861e-5) - 6.25722273987861e-5*x + 0.0768176082044522]])>"
            ]
          },
          "metadata": {},
          "execution_count": 36
        }
      ]
    },
    {
      "cell_type": "code",
      "source": [
        "band_arr = []\n",
        "for i in range (0, 315):\n",
        "  band_arr.append(res[0, 0].subs(x, sample_calories[i]))"
      ],
      "metadata": {
        "id": "cyr6wjXDHviN"
      },
      "execution_count": null,
      "outputs": []
    },
    {
      "cell_type": "code",
      "source": [
        "band_arr = np.array(band_arr)\n",
        "band_arr[314]"
      ],
      "metadata": {
        "colab": {
          "base_uri": "https://localhost:8080/",
          "height": 37
        },
        "id": "xk6hwgypJlQ3",
        "outputId": "7df8ffdd-b05f-45d5-c352-989d88f3e67a"
      },
      "execution_count": null,
      "outputs": [
        {
          "output_type": "execute_result",
          "data": {
            "text/plain": [
              "0.00348802722710723"
            ],
            "image/png": "[encoded data removed]",
            "text/latex": "$\\displaystyle 0.00348802722710723$"
          },
          "metadata": {},
          "execution_count": 35
        }
      ]
    },
    {
      "cell_type": "code",
      "source": [
        "res1 = res[0, 0]\n",
        "sub = res1.subs(x, 0)\n",
        "sub"
      ],
      "metadata": {
        "colab": {
          "base_uri": "https://localhost:8080/",
          "height": 37
        },
        "id": "twz9Cdc2j6xb",
        "outputId": "f48c7040-548e-48fb-d1ae-71f29282757d"
      },
      "execution_count": null,
      "outputs": [
        {
          "output_type": "execute_result",
          "data": {
            "text/plain": [
              "0.0768176082044522"
            ],
            "image/png": "[encoded data removed]",
            "text/latex": "$\\displaystyle 0.0768176082044522$"
          },
          "metadata": {},
          "execution_count": 16
        }
      ]
    },
    {
      "cell_type": "code",
      "source": [
        "plt.scatter(sample_calories, sample_carotene)\n",
        "x = np.linspace(min(sample_calories), max(sample_calories), 315)\n",
        "f = beta0 + beta1*x + beta2*x**2\n",
        "f_low = f - sps.t.ppf(0.95, 313)*sqrt(res_var*(x**2*(2.14789204198156e-15*x**2 - 1.02607464840796e-11*x + 1.05106468814094e-8) + 1.05106468814094e-8*x**2 + x*(-1.02607464840796e-11*x**2 + 5.58971809662414e-8*x - 6.25722273987861e-5) - 6.25722273987861e-5*x + 0.0768176082044522))\n",
        "f_high = f + sps.t.ppf(0.95, 313)*sqrt(res_var*(x**2*(2.14789204198156e-15*x**2 - 1.02607464840796e-11*x + 1.05106468814094e-8) + 1.05106468814094e-8*x**2 + x*(-1.02607464840796e-11*x**2 + 5.58971809662414e-8*x - 6.25722273987861e-5) - 6.25722273987861e-5*x + 0.0768176082044522))\n",
        "plt.plot(x, f, color = 'red')\n",
        "plt.plot(x, f_high, color='green')\n",
        "plt.plot(x, f_low, color='green')"
      ],
      "metadata": {
        "colab": {
          "base_uri": "https://localhost:8080/",
          "height": 282
        },
        "id": "Zxyh3d75rF9o",
        "outputId": "c7975baf-f529-462f-c2e6-dd2ff5454189"
      },
      "execution_count": null,
      "outputs": [
        {
          "output_type": "execute_result",
          "data": {
            "text/plain": [
              "[<matplotlib.lines.Line2D at 0x7f09c75b11f0>]"
            ]
          },
          "metadata": {},
          "execution_count": 47
        },
        {
          "output_type": "display_data",
          "data": {
            "text/plain": [
              "<Figure size 432x288 with 1 Axes>"
            ],
            "image/png": "[encoded data removed]"
          },
          "metadata": {
            "needs_background": "light"
          }
        }
      ]
    },
    {
      "cell_type": "code",
      "source": [
        "plt.scatter(sample_calories, sample_carotene - f)"
      ],
      "metadata": {
        "colab": {
          "base_uri": "https://localhost:8080/",
          "height": 282
        },
        "id": "8RvbOjszQUYd",
        "outputId": "744b6e40-7857-4da5-9293-1cdf4b13309e"
      },
      "execution_count": null,
      "outputs": [
        {
          "output_type": "execute_result",
          "data": {
            "text/plain": [
              "<matplotlib.collections.PathCollection at 0x7f09c7576820>"
            ]
          },
          "metadata": {},
          "execution_count": 48
        },
        {
          "output_type": "display_data",
          "data": {
            "text/plain": [
              "<Figure size 432x288 with 1 Axes>"
            ],
            "image/png": "[encoded data removed]"
          },
          "metadata": {
            "needs_background": "light"
          }
        }
      ]
    },
    {
      "cell_type": "code",
      "source": [
        "1 - sps.f.cdf(0.63, 2, 312)"
      ],
      "metadata": {
        "colab": {
          "base_uri": "https://localhost:8080/",
          "height": 37
        },
        "id": "V8Ug_eU3RqdE",
        "outputId": "ed437f37-5c7d-4851-98a4-e8b27f368cb1"
      },
      "execution_count": null,
      "outputs": [
        {
          "output_type": "execute_result",
          "data": {
            "text/plain": [
              "0.5332679294619073"
            ],
            "image/png": "[encoded data removed]",
            "text/latex": "$\\displaystyle 0.533267929461907$"
          },
          "metadata": {},
          "execution_count": 49
        }
      ]
    },
    {
      "cell_type": "code",
      "source": [
        "x = symbols('x')\n",
        "f = beta0 + beta1*x + beta2*x**2\n",
        "f_low = f - sps.t.ppf(0.95, 313)*sqrt(res_var*res1)\n",
        "f_high = f + sps.t.ppf(0.95, 313)*sqrt(res_var*res1)\n",
        "p1 = plotting.plot(f)\n",
        "plt.scatter(sample_calories, sample_carotene)"
      ],
      "metadata": {
        "id": "_oDSR9VrGMF_"
      },
      "execution_count": null,
      "outputs": []
    },
    {
      "cell_type": "code",
      "source": [
        "F = Matrix([np.ones(315), sample_calories, sample_quetelet]).T\n",
        "y = Matrix([sample_carotene]).T\n",
        "beta = ((F.T*F)**-1)*F.T*y\n",
        "beta0 = beta[0]\n",
        "beta1 = beta[1]\n",
        "beta2 = beta[2]"
      ],
      "metadata": {
        "id": "MiayFP7dbqAc"
      },
      "execution_count": null,
      "outputs": []
    },
    {
      "cell_type": "code",
      "source": [
        "y_pred = beta0 + beta1*sample_calories + beta2*sample_quetelet\n",
        "res_sum = 0\n",
        "reg_sum = 0\n",
        "total_sum = 0\n",
        "x_sq_sum = 0\n",
        "for i in range (0, 315):\n",
        "  res_sum+=(sample_carotene[i] - y_pred[i])**2\n",
        "  reg_sum+=(y_pred[i] - np.mean(sample_carotene))**2\n",
        "  total_sum+=(sample_carotene[i] - np.mean(sample_carotene))**2\n",
        "res_var = res_sum/315\n",
        "reg_var = reg_sum/315\n",
        "total_var = total_sum/315\n",
        "print('reg_var =', reg_var, 'res_var = ', res_var, 'total_var = ', total_var)"
      ],
      "metadata": {
        "colab": {
          "base_uri": "https://localhost:8080/"
        },
        "id": "lHdXnKhNgWPP",
        "outputId": "9516efe4-35dd-423a-8ef4-b50ddfb64164"
      },
      "execution_count": null,
      "outputs": [
        {
          "output_type": "stream",
          "name": "stdout",
          "text": [
            "reg_var = 1771.84968451284 res_var =  31611.1291413879 total_var =  33382.97882590072\n"
          ]
        }
      ]
    },
    {
      "cell_type": "code",
      "source": [
        "import sklearn.metrics"
      ],
      "metadata": {
        "id": "S9OtoGMeAqQw"
      },
      "execution_count": null,
      "outputs": []
    },
    {
      "cell_type": "code",
      "source": [
        "sklearn.metrics.explained_variance_score(sample_carotene, reg.slope*sample_calories + reg.intercept)"
      ],
      "metadata": {
        "colab": {
          "base_uri": "https://localhost:8080/"
        },
        "id": "jRg9UuQGDN46",
        "outputId": "d2b5960b-8ed3-454b-cf7f-ed8dc0865941"
      },
      "execution_count": null,
      "outputs": [
        {
          "output_type": "execute_result",
          "data": {
            "text/plain": [
              "0.0004931489333032113"
            ]
          },
          "metadata": {},
          "execution_count": 10
        }
      ]
    },
    {
      "cell_type": "code",
      "source": [
        "sps.tvar(sample_carotene)"
      ],
      "metadata": {
        "id": "HPrleWIHD1Mt",
        "outputId": "46ebcbf9-9d74-4ea6-adc2-0405394eeb9a",
        "colab": {
          "base_uri": "https://localhost:8080/"
        }
      },
      "execution_count": null,
      "outputs": [
        {
          "output_type": "execute_result",
          "data": {
            "text/plain": [
              "33489.2940450915"
            ]
          },
          "metadata": {},
          "execution_count": 11
        }
      ]
    },
    {
      "cell_type": "code",
      "source": [
        "sps.pearsonr(sample_carotene, sample_retinol)"
      ],
      "metadata": {
        "colab": {
          "base_uri": "https://localhost:8080/"
        },
        "id": "M6T_br7gu1CM",
        "outputId": "fd8f3c26-3274-4967-97bb-18c64c980cfd"
      },
      "execution_count": null,
      "outputs": [
        {
          "output_type": "execute_result",
          "data": {
            "text/plain": [
              "PearsonRResult(statistic=0.07157724015217476, pvalue=0.20517488254189867)"
            ]
          },
          "metadata": {},
          "execution_count": 11
        }
      ]
    },
    {
      "cell_type": "code",
      "source": [
        "sps.pearsonr(sample_carotene, sample_retinol).confidence_interval(confidence_level=0.99)"
      ],
      "metadata": {
        "colab": {
          "base_uri": "https://localhost:8080/"
        },
        "id": "sqsTafb6VwI-",
        "outputId": "ad7f134e-a919-417b-abce-dd211b4d3068"
      },
      "execution_count": null,
      "outputs": [
        {
          "output_type": "execute_result",
          "data": {
            "text/plain": [
              "ConfidenceInterval(low=-0.02141836867011403, high=0.1633448791752626)"
            ]
          },
          "metadata": {},
          "execution_count": 8
        }
      ]
    },
    {
      "cell_type": "code",
      "source": [
        "sps.spearmanr(sample_carotene, sample_retinol)"
      ],
      "metadata": {
        "colab": {
          "base_uri": "https://localhost:8080/"
        },
        "id": "6VEWbmqKWGbd",
        "outputId": "9e593b47-4c75-4d1e-93d8-143c8c8f70f1"
      },
      "execution_count": null,
      "outputs": [
        {
          "output_type": "execute_result",
          "data": {
            "text/plain": [
              "SpearmanrResult(correlation=0.13062133340920742, pvalue=0.020393608129350045)"
            ]
          },
          "metadata": {},
          "execution_count": 17
        }
      ]
    },
    {
      "cell_type": "code",
      "source": [
        "sps.kendalltau(sample_carotene, sample_retinol)"
      ],
      "metadata": {
        "colab": {
          "base_uri": "https://localhost:8080/"
        },
        "id": "8H6Zm7ZxWTDx",
        "outputId": "ca2d6ccb-bb8b-4ee9-dbb2-457b81b2b410"
      },
      "execution_count": null,
      "outputs": [
        {
          "output_type": "execute_result",
          "data": {
            "text/plain": [
              "KendalltauResult(correlation=0.0857942303995992, pvalue=0.02343985266111217)"
            ]
          },
          "metadata": {},
          "execution_count": 18
        }
      ]
    },
    {
      "cell_type": "code",
      "source": [
        "sps.kendalltau(sample_calories, sample_fat)"
      ],
      "metadata": {
        "colab": {
          "base_uri": "https://localhost:8080/"
        },
        "id": "U2ci64d34z8R",
        "outputId": "854a137e-dbe3-4020-fa55-4955981c3ab4"
      },
      "execution_count": null,
      "outputs": [
        {
          "output_type": "execute_result",
          "data": {
            "text/plain": [
              "KendalltauResult(correlation=0.7189893498217673, pvalue=1.0366799713773913e-80)"
            ]
          },
          "metadata": {},
          "execution_count": 14
        }
      ]
    },
    {
      "cell_type": "code",
      "source": [
        "sps.kendalltau(sample_calories, sample_fiber)"
      ],
      "metadata": {
        "colab": {
          "base_uri": "https://localhost:8080/"
        },
        "id": "zHF_r3iv48mK",
        "outputId": "57533bdc-7f6f-4707-e11e-54c26bb89d45"
      },
      "execution_count": null,
      "outputs": [
        {
          "output_type": "execute_result",
          "data": {
            "text/plain": [
              "KendalltauResult(correlation=0.3927045363921576, pvalue=3.524126469362575e-25)"
            ]
          },
          "metadata": {},
          "execution_count": 15
        }
      ]
    },
    {
      "cell_type": "code",
      "source": [
        "sps.kendalltau(sample_fiber, sample_fat)"
      ],
      "metadata": {
        "colab": {
          "base_uri": "https://localhost:8080/"
        },
        "id": "FkPD8v7c49CS",
        "outputId": "30eed58b-d25a-4426-d1b6-791c2da3a5bd"
      },
      "execution_count": null,
      "outputs": [
        {
          "output_type": "execute_result",
          "data": {
            "text/plain": [
              "KendalltauResult(correlation=0.21622621725714256, pvalue=1.1599307874398759e-08)"
            ]
          },
          "metadata": {},
          "execution_count": 16
        }
      ]
    },
    {
      "cell_type": "code",
      "source": [
        "sps.rankdata(sample_calories)"
      ],
      "metadata": {
        "id": "RuZKeHU9_GvT"
      },
      "execution_count": null,
      "outputs": []
    },
    {
      "cell_type": "code",
      "source": [
        "conc_coeff = 0\n",
        "for i in range(0, 314):\n",
        "  temp_sum = 0\n",
        "  for k in range(0, 3):\n",
        "    conc_coeff+=(1/3*)**2"
      ],
      "metadata": {
        "id": "Wzh0ETCg9-LN"
      },
      "execution_count": null,
      "outputs": []
    },
    {
      "cell_type": "code",
      "source": [
        "def conc_coef(samples):\n",
        "  conc = 0\n",
        "  for i in range(0, 314):\n",
        "    temp_sum = 0\n",
        "    for k in range(0, 3):\n",
        "      temp_sum+=sps.rankdata(samples[k])[i] - 158\n",
        "    conc+=(1/3*temp_sum)**2\n",
        "  return 12/(315**3-315)*conc"
      ],
      "metadata": {
        "id": "JQIGmFmFAssh"
      },
      "execution_count": null,
      "outputs": []
    },
    {
      "cell_type": "code",
      "source": [
        "conc_coef((sample_calories, sample_fat, sample_fiber))"
      ],
      "metadata": {
        "colab": {
          "base_uri": "https://localhost:8080/"
        },
        "id": "BMddrtG8C-MS",
        "outputId": "e54d1dc0-30ac-4268-d633-f2e27422e689"
      },
      "execution_count": null,
      "outputs": [
        {
          "output_type": "execute_result",
          "data": {
            "text/plain": [
              "0.7258600389818636"
            ]
          },
          "metadata": {},
          "execution_count": 21
        }
      ]
    },
    {
      "cell_type": "code",
      "source": [
        "sps.tvar(sample_quetelet)"
      ],
      "metadata": {
        "colab": {
          "base_uri": "https://localhost:8080/"
        },
        "id": "w83IZOnJGthz",
        "outputId": "f691dd01-df89-4ea3-e172-f3b955861dd2"
      },
      "execution_count": null,
      "outputs": [
        {
          "output_type": "execute_result",
          "data": {
            "text/plain": [
              "36.16278839419423"
            ]
          },
          "metadata": {},
          "execution_count": 15
        }
      ]
    },
    {
      "cell_type": "code",
      "source": [
        "sps.tmean(sample_quetelet)"
      ],
      "metadata": {
        "colab": {
          "base_uri": "https://localhost:8080/"
        },
        "id": "14o-DQfYG898",
        "outputId": "ec04c8a2-dda5-4b98-9fb0-32f878ee7474"
      },
      "execution_count": null,
      "outputs": [
        {
          "output_type": "execute_result",
          "data": {
            "text/plain": [
              "26.15737352380952"
            ]
          },
          "metadata": {},
          "execution_count": 17
        }
      ]
    },
    {
      "cell_type": "code",
      "source": [
        "sample_smoking.count('Current Smoker')"
      ],
      "metadata": {
        "colab": {
          "base_uri": "https://localhost:8080/"
        },
        "id": "biA7NezXkcfL",
        "outputId": "894b746f-7433-41ae-a801-4e2ce78992dd"
      },
      "execution_count": null,
      "outputs": [
        {
          "output_type": "execute_result",
          "data": {
            "text/plain": [
              "43"
            ]
          },
          "metadata": {},
          "execution_count": 8
        }
      ]
    },
    {
      "cell_type": "code",
      "source": [
        "df = pd.DataFrame({'Smoking Status': sample_smoking, 'Quetelet': sample_quetelet})\n",
        "# df = df.set_index('Smoking Status')\n"
      ],
      "metadata": {
        "id": "3kOqp81xmEQz"
      },
      "execution_count": null,
      "outputs": []
    },
    {
      "cell_type": "code",
      "source": [
        "df = pd.DataFrame({'Smoking Status': sample_smoking, 'Quetelet': sample_quetelet})\n",
        "df"
      ],
      "metadata": {
        "colab": {
          "base_uri": "https://localhost:8080/",
          "height": 424
        },
        "id": "Su-iWEGp21YI",
        "outputId": "6007783b-1169-424d-9f11-ba0fd419d47a"
      },
      "execution_count": null,
      "outputs": [
        {
          "output_type": "execute_result",
          "data": {
            "text/plain": [
              "    Smoking Status  Quetelet\n",
              "0           Former  21.48380\n",
              "1            Never  23.87631\n",
              "2           Former  20.01080\n",
              "3           Former  25.14062\n",
              "4            Never  20.98504\n",
              "..             ...       ...\n",
              "310         Former  25.89669\n",
              "311          Never  23.82703\n",
              "312          Never  24.26126\n",
              "313         Former  23.45255\n",
              "314          Never  26.50808\n",
              "\n",
              "[315 rows x 2 columns]"
            ],
            "text/html": [
              "\n",
              "  <div id=\"df-218eafb8-aa33-4b9b-9e97-9d69799283cb\">\n",
              "    <div class=\"colab-df-container\">\n",
              "      <div>\n",
              "<style scoped>\n",
              "    .dataframe tbody tr th:only-of-type {\n",
              "        vertical-align: middle;\n",
              "    }\n",
              "\n",
              "    .dataframe tbody tr th {\n",
              "        vertical-align: top;\n",
              "    }\n",
              "\n",
              "    .dataframe thead th {\n",
              "        text-align: right;\n",
              "    }\n",
              "</style>\n",
              "<table border=\"1\" class=\"dataframe\">\n",
              "  <thead>\n",
              "    <tr style=\"text-align: right;\">\n",
              "      <th></th>\n",
              "      <th>Smoking Status</th>\n",
              "      <th>Quetelet</th>\n",
              "    </tr>\n",
              "  </thead>\n",
              "  <tbody>\n",
              "    <tr>\n",
              "      <th>0</th>\n",
              "      <td>Former</td>\n",
              "      <td>21.48380</td>\n",
              "    </tr>\n",
              "    <tr>\n",
              "      <th>1</th>\n",
              "      <td>Never</td>\n",
              "      <td>23.87631</td>\n",
              "    </tr>\n",
              "    <tr>\n",
              "      <th>2</th>\n",
              "      <td>Former</td>\n",
              "      <td>20.01080</td>\n",
              "    </tr>\n",
              "    <tr>\n",
              "      <th>3</th>\n",
              "      <td>Former</td>\n",
              "      <td>25.14062</td>\n",
              "    </tr>\n",
              "    <tr>\n",
              "      <th>4</th>\n",
              "      <td>Never</td>\n",
              "      <td>20.98504</td>\n",
              "    </tr>\n",
              "    <tr>\n",
              "      <th>...</th>\n",
              "      <td>...</td>\n",
              "      <td>...</td>\n",
              "    </tr>\n",
              "    <tr>\n",
              "      <th>310</th>\n",
              "      <td>Former</td>\n",
              "      <td>25.89669</td>\n",
              "    </tr>\n",
              "    <tr>\n",
              "      <th>311</th>\n",
              "      <td>Never</td>\n",
              "      <td>23.82703</td>\n",
              "    </tr>\n",
              "    <tr>\n",
              "      <th>312</th>\n",
              "      <td>Never</td>\n",
              "      <td>24.26126</td>\n",
              "    </tr>\n",
              "    <tr>\n",
              "      <th>313</th>\n",
              "      <td>Former</td>\n",
              "      <td>23.45255</td>\n",
              "    </tr>\n",
              "    <tr>\n",
              "      <th>314</th>\n",
              "      <td>Never</td>\n",
              "      <td>26.50808</td>\n",
              "    </tr>\n",
              "  </tbody>\n",
              "</table>\n",
              "<p>315 rows × 2 columns</p>\n",
              "</div>\n",
              "      <button class=\"colab-df-convert\" onclick=\"convertToInteractive('df-218eafb8-aa33-4b9b-9e97-9d69799283cb')\"\n",
              "              title=\"Convert this dataframe to an interactive table.\"\n",
              "              style=\"display:none;\">\n",
              "        \n",
              "  <svg xmlns=\"http://www.w3.org/2000/svg\" height=\"24px\"viewBox=\"0 0 24 24\"\n",
              "       width=\"24px\">\n",
              "    <path d=\"M0 0h24v24H0V0z\" fill=\"none\"/>\n",
              "    <path d=\"M18.56 5.44l.94 2.06.94-2.06 2.06-.94-2.06-.94-.94-2.06-.94 2.06-2.06.94zm-11 1L8.5 8.5l.94-2.06 2.06-.94-2.06-.94L8.5 2.5l-.94 2.06-2.06.94zm10 10l.94 2.06.94-2.06 2.06-.94-2.06-.94-.94-2.06-.94 2.06-2.06.94z\"/><path d=\"M17.41 7.96l-1.37-1.37c-.4-.4-.92-.59-1.43-.59-.52 0-1.04.2-1.43.59L10.3 9.45l-7.72 7.72c-.78.78-.78 2.05 0 2.83L4 21.41c.39.39.9.59 1.41.59.51 0 1.02-.2 1.41-.59l7.78-7.78 2.81-2.81c.8-.78.8-2.07 0-2.86zM5.41 20L4 18.59l7.72-7.72 1.47 1.35L5.41 20z\"/>\n",
              "  </svg>\n",
              "      </button>\n",
              "      \n",
              "  <style>\n",
              "    .colab-df-container {\n",
              "      display:flex;\n",
              "      flex-wrap:wrap;\n",
              "      gap: 12px;\n",
              "    }\n",
              "\n",
              "    .colab-df-convert {\n",
              "      background-color: #E8F0FE;\n",
              "      border: none;\n",
              "      border-radius: 50%;\n",
              "      cursor: pointer;\n",
              "      display: none;\n",
              "      fill: #1967D2;\n",
              "      height: 32px;\n",
              "      padding: 0 0 0 0;\n",
              "      width: 32px;\n",
              "    }\n",
              "\n",
              "    .colab-df-convert:hover {\n",
              "      background-color: #E2EBFA;\n",
              "      box-shadow: 0px 1px 2px rgba(60, 64, 67, 0.3), 0px 1px 3px 1px rgba(60, 64, 67, 0.15);\n",
              "      fill: #174EA6;\n",
              "    }\n",
              "\n",
              "    [theme=dark] .colab-df-convert {\n",
              "      background-color: #3B4455;\n",
              "      fill: #D2E3FC;\n",
              "    }\n",
              "\n",
              "    [theme=dark] .colab-df-convert:hover {\n",
              "      background-color: #434B5C;\n",
              "      box-shadow: 0px 1px 3px 1px rgba(0, 0, 0, 0.15);\n",
              "      filter: drop-shadow(0px 1px 2px rgba(0, 0, 0, 0.3));\n",
              "      fill: #FFFFFF;\n",
              "    }\n",
              "  </style>\n",
              "\n",
              "      <script>\n",
              "        const buttonEl =\n",
              "          document.querySelector('#df-218eafb8-aa33-4b9b-9e97-9d69799283cb button.colab-df-convert');\n",
              "        buttonEl.style.display =\n",
              "          google.colab.kernel.accessAllowed ? 'block' : 'none';\n",
              "\n",
              "        async function convertToInteractive(key) {\n",
              "          const element = document.querySelector('#df-218eafb8-aa33-4b9b-9e97-9d69799283cb');\n",
              "          const dataTable =\n",
              "            await google.colab.kernel.invokeFunction('convertToInteractive',\n",
              "                                                     [key], {});\n",
              "          if (!dataTable) return;\n",
              "\n",
              "          const docLinkHtml = 'Like what you see? Visit the ' +\n",
              "            '<a target=\"_blank\" href=https://colab.research.google.com/notebooks/data_table.ipynb>data table notebook</a>'\n",
              "            + ' to learn more about interactive tables.';\n",
              "          element.innerHTML = '';\n",
              "          dataTable['output_type'] = 'display_data';\n",
              "          await google.colab.output.renderOutput(dataTable, element);\n",
              "          const docLink = document.createElement('div');\n",
              "          docLink.innerHTML = docLinkHtml;\n",
              "          element.appendChild(docLink);\n",
              "        }\n",
              "      </script>\n",
              "    </div>\n",
              "  </div>\n",
              "  "
            ]
          },
          "metadata": {},
          "execution_count": 9
        }
      ]
    },
    {
      "cell_type": "code",
      "source": [
        "quet_never = df.groupby('Smoking Status')['Quetelet'].apply(lambda x: np.array(x)).loc['Never']\n",
        "quet_former = df.groupby('Smoking Status')['Quetelet'].apply(lambda x: np.array(x)).loc['Former']\n",
        "quet_current = df.groupby('Smoking Status')['Quetelet'].apply(lambda x: np.array(x)).loc['Current Smoker']"
      ],
      "metadata": {
        "id": "vF5fGGBJ2jxX"
      },
      "execution_count": null,
      "outputs": []
    },
    {
      "cell_type": "code",
      "source": [
        "df.groupby('Smoking Status')['Quetelet'].apply(lambda x: np.array(x))"
      ],
      "metadata": {
        "colab": {
          "base_uri": "https://localhost:8080/"
        },
        "id": "8fdzme_Y39HX",
        "outputId": "a20faf12-e0af-4fc4-e03c-aa3f87566cf7"
      },
      "execution_count": null,
      "outputs": [
        {
          "output_type": "execute_result",
          "data": {
            "text/plain": [
              "Smoking Status\n",
              "Current Smoker    [16.33114, 25.87867, 21.99912, 23.34593, 25.11...\n",
              "Former            [21.4838, 20.0108, 25.14062, 27.52136, 34.9699...\n",
              "Never             [23.87631, 20.98504, 22.01154, 28.75702, 23.07...\n",
              "Name: Quetelet, dtype: object"
            ]
          },
          "metadata": {},
          "execution_count": 9
        }
      ]
    },
    {
      "cell_type": "code",
      "source": [
        "sps.f_oneway(quet_never, quet_former, quet_current)"
      ],
      "metadata": {
        "colab": {
          "base_uri": "https://localhost:8080/"
        },
        "id": "07lUBNf-2gR6",
        "outputId": "46b7ae65-fe50-474c-86f2-afd1b918cf74"
      },
      "execution_count": null,
      "outputs": [
        {
          "output_type": "execute_result",
          "data": {
            "text/plain": [
              "F_onewayResult(statistic=2.072548064382787, pvalue=0.12759407850703594)"
            ]
          },
          "metadata": {},
          "execution_count": 19
        }
      ]
    },
    {
      "cell_type": "code",
      "source": [
        "df.groupby('Smoking Status')['Quetelet'].apply(lambda x: list(x))"
      ],
      "metadata": {
        "colab": {
          "base_uri": "https://localhost:8080/"
        },
        "id": "k119PzdPou4o",
        "outputId": "239203bf-1539-46a7-f41c-1b8d9f5b37d2"
      },
      "execution_count": null,
      "outputs": [
        {
          "output_type": "execute_result",
          "data": {
            "text/plain": [
              "Smoking Status\n",
              "Current Smoker    [16.33114, 25.87867, 21.99912, 23.34593, 25.11...\n",
              "Former            [21.4838, 20.0108, 25.14062, 27.52136, 34.9699...\n",
              "Never             [23.87631, 20.98504, 22.01154, 28.75702, 23.07...\n",
              "Name: Quetelet, dtype: object"
            ]
          },
          "metadata": {},
          "execution_count": 15
        }
      ]
    },
    {
      "cell_type": "code",
      "source": [],
      "metadata": {
        "id": "WT1ZLDbQ1kWb"
      },
      "execution_count": null,
      "outputs": []
    },
    {
      "cell_type": "code",
      "source": [
        "df.groupby(['Smoking Status']).var()['Quetelet'].mean()"
      ],
      "metadata": {
        "colab": {
          "base_uri": "https://localhost:8080/"
        },
        "id": "6e9NZyz5BgVL",
        "outputId": "f6ba3026-4c93-496f-c8f4-1aefcd06f664"
      },
      "execution_count": null,
      "outputs": [
        {
          "output_type": "execute_result",
          "data": {
            "text/plain": [
              "32.06689322678902"
            ]
          },
          "metadata": {},
          "execution_count": 14
        }
      ]
    },
    {
      "cell_type": "code",
      "source": [
        "df = pd.DataFrame({'Sex': sample_sex, 'Smoking status': sample_smoking})\n",
        "df"
      ],
      "metadata": {
        "colab": {
          "base_uri": "https://localhost:8080/",
          "height": 424
        },
        "id": "JL0uZvhtptwW",
        "outputId": "bf12e311-5453-457c-c788-9a068e9558b0"
      },
      "execution_count": null,
      "outputs": [
        {
          "output_type": "execute_result",
          "data": {
            "text/plain": [
              "        Sex Smoking status\n",
              "0    Female         Former\n",
              "1    Female          Never\n",
              "2    Female         Former\n",
              "3    Female         Former\n",
              "4    Female          Never\n",
              "..      ...            ...\n",
              "310  Female         Former\n",
              "311  Female          Never\n",
              "312  Female          Never\n",
              "313  Female         Former\n",
              "314  Female          Never\n",
              "\n",
              "[315 rows x 2 columns]"
            ],
            "text/html": [
              "\n",
              "  <div id=\"df-8299e9d1-0ad1-4681-96b1-2fe696d17e0c\">\n",
              "    <div class=\"colab-df-container\">\n",
              "      <div>\n",
              "<style scoped>\n",
              "    .dataframe tbody tr th:only-of-type {\n",
              "        vertical-align: middle;\n",
              "    }\n",
              "\n",
              "    .dataframe tbody tr th {\n",
              "        vertical-align: top;\n",
              "    }\n",
              "\n",
              "    .dataframe thead th {\n",
              "        text-align: right;\n",
              "    }\n",
              "</style>\n",
              "<table border=\"1\" class=\"dataframe\">\n",
              "  <thead>\n",
              "    <tr style=\"text-align: right;\">\n",
              "      <th></th>\n",
              "      <th>Sex</th>\n",
              "      <th>Smoking status</th>\n",
              "    </tr>\n",
              "  </thead>\n",
              "  <tbody>\n",
              "    <tr>\n",
              "      <th>0</th>\n",
              "      <td>Female</td>\n",
              "      <td>Former</td>\n",
              "    </tr>\n",
              "    <tr>\n",
              "      <th>1</th>\n",
              "      <td>Female</td>\n",
              "      <td>Never</td>\n",
              "    </tr>\n",
              "    <tr>\n",
              "      <th>2</th>\n",
              "      <td>Female</td>\n",
              "      <td>Former</td>\n",
              "    </tr>\n",
              "    <tr>\n",
              "      <th>3</th>\n",
              "      <td>Female</td>\n",
              "      <td>Former</td>\n",
              "    </tr>\n",
              "    <tr>\n",
              "      <th>4</th>\n",
              "      <td>Female</td>\n",
              "      <td>Never</td>\n",
              "    </tr>\n",
              "    <tr>\n",
              "      <th>...</th>\n",
              "      <td>...</td>\n",
              "      <td>...</td>\n",
              "    </tr>\n",
              "    <tr>\n",
              "      <th>310</th>\n",
              "      <td>Female</td>\n",
              "      <td>Former</td>\n",
              "    </tr>\n",
              "    <tr>\n",
              "      <th>311</th>\n",
              "      <td>Female</td>\n",
              "      <td>Never</td>\n",
              "    </tr>\n",
              "    <tr>\n",
              "      <th>312</th>\n",
              "      <td>Female</td>\n",
              "      <td>Never</td>\n",
              "    </tr>\n",
              "    <tr>\n",
              "      <th>313</th>\n",
              "      <td>Female</td>\n",
              "      <td>Former</td>\n",
              "    </tr>\n",
              "    <tr>\n",
              "      <th>314</th>\n",
              "      <td>Female</td>\n",
              "      <td>Never</td>\n",
              "    </tr>\n",
              "  </tbody>\n",
              "</table>\n",
              "<p>315 rows × 2 columns</p>\n",
              "</div>\n",
              "      <button class=\"colab-df-convert\" onclick=\"convertToInteractive('df-8299e9d1-0ad1-4681-96b1-2fe696d17e0c')\"\n",
              "              title=\"Convert this dataframe to an interactive table.\"\n",
              "              style=\"display:none;\">\n",
              "        \n",
              "  <svg xmlns=\"http://www.w3.org/2000/svg\" height=\"24px\"viewBox=\"0 0 24 24\"\n",
              "       width=\"24px\">\n",
              "    <path d=\"M0 0h24v24H0V0z\" fill=\"none\"/>\n",
              "    <path d=\"M18.56 5.44l.94 2.06.94-2.06 2.06-.94-2.06-.94-.94-2.06-.94 2.06-2.06.94zm-11 1L8.5 8.5l.94-2.06 2.06-.94-2.06-.94L8.5 2.5l-.94 2.06-2.06.94zm10 10l.94 2.06.94-2.06 2.06-.94-2.06-.94-.94-2.06-.94 2.06-2.06.94z\"/><path d=\"M17.41 7.96l-1.37-1.37c-.4-.4-.92-.59-1.43-.59-.52 0-1.04.2-1.43.59L10.3 9.45l-7.72 7.72c-.78.78-.78 2.05 0 2.83L4 21.41c.39.39.9.59 1.41.59.51 0 1.02-.2 1.41-.59l7.78-7.78 2.81-2.81c.8-.78.8-2.07 0-2.86zM5.41 20L4 18.59l7.72-7.72 1.47 1.35L5.41 20z\"/>\n",
              "  </svg>\n",
              "      </button>\n",
              "      \n",
              "  <style>\n",
              "    .colab-df-container {\n",
              "      display:flex;\n",
              "      flex-wrap:wrap;\n",
              "      gap: 12px;\n",
              "    }\n",
              "\n",
              "    .colab-df-convert {\n",
              "      background-color: #E8F0FE;\n",
              "      border: none;\n",
              "      border-radius: 50%;\n",
              "      cursor: pointer;\n",
              "      display: none;\n",
              "      fill: #1967D2;\n",
              "      height: 32px;\n",
              "      padding: 0 0 0 0;\n",
              "      width: 32px;\n",
              "    }\n",
              "\n",
              "    .colab-df-convert:hover {\n",
              "      background-color: #E2EBFA;\n",
              "      box-shadow: 0px 1px 2px rgba(60, 64, 67, 0.3), 0px 1px 3px 1px rgba(60, 64, 67, 0.15);\n",
              "      fill: #174EA6;\n",
              "    }\n",
              "\n",
              "    [theme=dark] .colab-df-convert {\n",
              "      background-color: #3B4455;\n",
              "      fill: #D2E3FC;\n",
              "    }\n",
              "\n",
              "    [theme=dark] .colab-df-convert:hover {\n",
              "      background-color: #434B5C;\n",
              "      box-shadow: 0px 1px 3px 1px rgba(0, 0, 0, 0.15);\n",
              "      filter: drop-shadow(0px 1px 2px rgba(0, 0, 0, 0.3));\n",
              "      fill: #FFFFFF;\n",
              "    }\n",
              "  </style>\n",
              "\n",
              "      <script>\n",
              "        const buttonEl =\n",
              "          document.querySelector('#df-8299e9d1-0ad1-4681-96b1-2fe696d17e0c button.colab-df-convert');\n",
              "        buttonEl.style.display =\n",
              "          google.colab.kernel.accessAllowed ? 'block' : 'none';\n",
              "\n",
              "        async function convertToInteractive(key) {\n",
              "          const element = document.querySelector('#df-8299e9d1-0ad1-4681-96b1-2fe696d17e0c');\n",
              "          const dataTable =\n",
              "            await google.colab.kernel.invokeFunction('convertToInteractive',\n",
              "                                                     [key], {});\n",
              "          if (!dataTable) return;\n",
              "\n",
              "          const docLinkHtml = 'Like what you see? Visit the ' +\n",
              "            '<a target=\"_blank\" href=https://colab.research.google.com/notebooks/data_table.ipynb>data table notebook</a>'\n",
              "            + ' to learn more about interactive tables.';\n",
              "          element.innerHTML = '';\n",
              "          dataTable['output_type'] = 'display_data';\n",
              "          await google.colab.output.renderOutput(dataTable, element);\n",
              "          const docLink = document.createElement('div');\n",
              "          docLink.innerHTML = docLinkHtml;\n",
              "          element.appendChild(docLink);\n",
              "        }\n",
              "      </script>\n",
              "    </div>\n",
              "  </div>\n",
              "  "
            ]
          },
          "metadata": {},
          "execution_count": 4
        }
      ]
    },
    {
      "cell_type": "code",
      "source": [
        "emp_table = pd.crosstab(index=df['Sex'], columns=df['Smoking status'])\n",
        "emp_table"
      ],
      "metadata": {
        "colab": {
          "base_uri": "https://localhost:8080/",
          "height": 143
        },
        "id": "NrpT9AlCrMVr",
        "outputId": "8fa2cf57-626e-4e78-d8ca-fdea307f9df0"
      },
      "execution_count": null,
      "outputs": [
        {
          "output_type": "execute_result",
          "data": {
            "text/plain": [
              "Smoking status  Current Smoker  Former  Never\n",
              "Sex                                          \n",
              "Female                      36      93    144\n",
              "Male                         7      22     13"
            ],
            "text/html": [
              "\n",
              "  <div id=\"df-993c7c1d-6199-4089-8097-325215116151\">\n",
              "    <div class=\"colab-df-container\">\n",
              "      <div>\n",
              "<style scoped>\n",
              "    .dataframe tbody tr th:only-of-type {\n",
              "        vertical-align: middle;\n",
              "    }\n",
              "\n",
              "    .dataframe tbody tr th {\n",
              "        vertical-align: top;\n",
              "    }\n",
              "\n",
              "    .dataframe thead th {\n",
              "        text-align: right;\n",
              "    }\n",
              "</style>\n",
              "<table border=\"1\" class=\"dataframe\">\n",
              "  <thead>\n",
              "    <tr style=\"text-align: right;\">\n",
              "      <th>Smoking status</th>\n",
              "      <th>Current Smoker</th>\n",
              "      <th>Former</th>\n",
              "      <th>Never</th>\n",
              "    </tr>\n",
              "    <tr>\n",
              "      <th>Sex</th>\n",
              "      <th></th>\n",
              "      <th></th>\n",
              "      <th></th>\n",
              "    </tr>\n",
              "  </thead>\n",
              "  <tbody>\n",
              "    <tr>\n",
              "      <th>Female</th>\n",
              "      <td>36</td>\n",
              "      <td>93</td>\n",
              "      <td>144</td>\n",
              "    </tr>\n",
              "    <tr>\n",
              "      <th>Male</th>\n",
              "      <td>7</td>\n",
              "      <td>22</td>\n",
              "      <td>13</td>\n",
              "    </tr>\n",
              "  </tbody>\n",
              "</table>\n",
              "</div>\n",
              "      <button class=\"colab-df-convert\" onclick=\"convertToInteractive('df-993c7c1d-6199-4089-8097-325215116151')\"\n",
              "              title=\"Convert this dataframe to an interactive table.\"\n",
              "              style=\"display:none;\">\n",
              "        \n",
              "  <svg xmlns=\"http://www.w3.org/2000/svg\" height=\"24px\"viewBox=\"0 0 24 24\"\n",
              "       width=\"24px\">\n",
              "    <path d=\"M0 0h24v24H0V0z\" fill=\"none\"/>\n",
              "    <path d=\"M18.56 5.44l.94 2.06.94-2.06 2.06-.94-2.06-.94-.94-2.06-.94 2.06-2.06.94zm-11 1L8.5 8.5l.94-2.06 2.06-.94-2.06-.94L8.5 2.5l-.94 2.06-2.06.94zm10 10l.94 2.06.94-2.06 2.06-.94-2.06-.94-.94-2.06-.94 2.06-2.06.94z\"/><path d=\"M17.41 7.96l-1.37-1.37c-.4-.4-.92-.59-1.43-.59-.52 0-1.04.2-1.43.59L10.3 9.45l-7.72 7.72c-.78.78-.78 2.05 0 2.83L4 21.41c.39.39.9.59 1.41.59.51 0 1.02-.2 1.41-.59l7.78-7.78 2.81-2.81c.8-.78.8-2.07 0-2.86zM5.41 20L4 18.59l7.72-7.72 1.47 1.35L5.41 20z\"/>\n",
              "  </svg>\n",
              "      </button>\n",
              "      \n",
              "  <style>\n",
              "    .colab-df-container {\n",
              "      display:flex;\n",
              "      flex-wrap:wrap;\n",
              "      gap: 12px;\n",
              "    }\n",
              "\n",
              "    .colab-df-convert {\n",
              "      background-color: #E8F0FE;\n",
              "      border: none;\n",
              "      border-radius: 50%;\n",
              "      cursor: pointer;\n",
              "      display: none;\n",
              "      fill: #1967D2;\n",
              "      height: 32px;\n",
              "      padding: 0 0 0 0;\n",
              "      width: 32px;\n",
              "    }\n",
              "\n",
              "    .colab-df-convert:hover {\n",
              "      background-color: #E2EBFA;\n",
              "      box-shadow: 0px 1px 2px rgba(60, 64, 67, 0.3), 0px 1px 3px 1px rgba(60, 64, 67, 0.15);\n",
              "      fill: #174EA6;\n",
              "    }\n",
              "\n",
              "    [theme=dark] .colab-df-convert {\n",
              "      background-color: #3B4455;\n",
              "      fill: #D2E3FC;\n",
              "    }\n",
              "\n",
              "    [theme=dark] .colab-df-convert:hover {\n",
              "      background-color: #434B5C;\n",
              "      box-shadow: 0px 1px 3px 1px rgba(0, 0, 0, 0.15);\n",
              "      filter: drop-shadow(0px 1px 2px rgba(0, 0, 0, 0.3));\n",
              "      fill: #FFFFFF;\n",
              "    }\n",
              "  </style>\n",
              "\n",
              "      <script>\n",
              "        const buttonEl =\n",
              "          document.querySelector('#df-993c7c1d-6199-4089-8097-325215116151 button.colab-df-convert');\n",
              "        buttonEl.style.display =\n",
              "          google.colab.kernel.accessAllowed ? 'block' : 'none';\n",
              "\n",
              "        async function convertToInteractive(key) {\n",
              "          const element = document.querySelector('#df-993c7c1d-6199-4089-8097-325215116151');\n",
              "          const dataTable =\n",
              "            await google.colab.kernel.invokeFunction('convertToInteractive',\n",
              "                                                     [key], {});\n",
              "          if (!dataTable) return;\n",
              "\n",
              "          const docLinkHtml = 'Like what you see? Visit the ' +\n",
              "            '<a target=\"_blank\" href=https://colab.research.google.com/notebooks/data_table.ipynb>data table notebook</a>'\n",
              "            + ' to learn more about interactive tables.';\n",
              "          element.innerHTML = '';\n",
              "          dataTable['output_type'] = 'display_data';\n",
              "          await google.colab.output.renderOutput(dataTable, element);\n",
              "          const docLink = document.createElement('div');\n",
              "          docLink.innerHTML = docLinkHtml;\n",
              "          element.appendChild(docLink);\n",
              "        }\n",
              "      </script>\n",
              "    </div>\n",
              "  </div>\n",
              "  "
            ]
          },
          "metadata": {},
          "execution_count": 7
        }
      ]
    },
    {
      "cell_type": "code",
      "source": [
        "round(1 - sps.chi2.cdf(7.14, 2), 4)"
      ],
      "metadata": {
        "colab": {
          "base_uri": "https://localhost:8080/"
        },
        "id": "Dmjv-utF1kqr",
        "outputId": "264ddc00-c841-4c87-d9f1-27f7660302ef"
      },
      "execution_count": null,
      "outputs": [
        {
          "output_type": "execute_result",
          "data": {
            "text/plain": [
              "0.0282"
            ]
          },
          "metadata": {},
          "execution_count": 11
        }
      ]
    },
    {
      "cell_type": "code",
      "source": [
        "import statsmodels.stats.descriptivestats as ssd"
      ],
      "metadata": {
        "id": "cr6zLhEFI4FY"
      },
      "execution_count": null,
      "outputs": []
    },
    {
      "cell_type": "code",
      "source": [
        "bins_edges = [0]\n",
        "for i in range(1, 9):\n",
        "  bins_edges.append(bins_edges[i-1] + 215.875)\n",
        "bins_edges"
      ],
      "metadata": {
        "colab": {
          "base_uri": "https://localhost:8080/"
        },
        "id": "ovrWeLHG_jsk",
        "outputId": "ea749267-1b3f-4d01-894b-660717ad2fe5"
      },
      "execution_count": null,
      "outputs": [
        {
          "output_type": "execute_result",
          "data": {
            "text/plain": [
              "[0, 215.875, 431.75, 647.625, 863.5, 1079.375, 1295.25, 1511.125, 1727.0]"
            ]
          },
          "metadata": {},
          "execution_count": 10
        }
      ]
    },
    {
      "cell_type": "code",
      "source": [
        "np.histogram(sample_carotene, bins=bins_edges)"
      ],
      "metadata": {
        "colab": {
          "base_uri": "https://localhost:8080/"
        },
        "id": "BSGwGbipL3FL",
        "outputId": "0029b184-ee1c-400e-b262-4d33f26b92e3"
      },
      "execution_count": null,
      "outputs": [
        {
          "output_type": "execute_result",
          "data": {
            "text/plain": [
              "(array([229,  69,   8,   4,   2,   1,   2,   0]),\n",
              " array([   0.   ,  215.875,  431.75 ,  647.625,  863.5  , 1079.375,\n",
              "        1295.25 , 1511.125, 1727.   ]))"
            ]
          },
          "metadata": {},
          "execution_count": 11
        }
      ]
    },
    {
      "cell_type": "code",
      "source": [
        "np.histogram(sample_retinol, bins=bins_edges)"
      ],
      "metadata": {
        "colab": {
          "base_uri": "https://localhost:8080/"
        },
        "id": "mfsXfWb_8FFa",
        "outputId": "d19ede39-91c4-4040-c03c-bf9fe5d35a88"
      },
      "execution_count": null,
      "outputs": [
        {
          "output_type": "execute_result",
          "data": {
            "text/plain": [
              "(array([  3,  58, 144,  83,  19,   5,   1,   2]),\n",
              " array([   0.   ,  215.875,  431.75 ,  647.625,  863.5  , 1079.375,\n",
              "        1295.25 , 1511.125, 1727.   ]))"
            ]
          },
          "metadata": {},
          "execution_count": 12
        }
      ]
    },
    {
      "cell_type": "code",
      "source": [
        "np.around(np.histogram(sample_carotene, bins=bins_edges)[0]/315, decimals=4)"
      ],
      "metadata": {
        "colab": {
          "base_uri": "https://localhost:8080/"
        },
        "id": "nAV-dhkaCB5O",
        "outputId": "1e78d7e8-ce76-46f5-b867-b1f231f10ad3"
      },
      "execution_count": null,
      "outputs": [
        {
          "output_type": "execute_result",
          "data": {
            "text/plain": [
              "array([0.727 , 0.219 , 0.0254, 0.0127, 0.0063, 0.0032, 0.0063, 0.    ])"
            ]
          },
          "metadata": {},
          "execution_count": 14
        }
      ]
    },
    {
      "cell_type": "code",
      "source": [
        "np.around(np.histogram(sample_retinol, bins=bins_edges)[0]/315, decimals=4)"
      ],
      "metadata": {
        "colab": {
          "base_uri": "https://localhost:8080/"
        },
        "id": "z2Nr_InDC1sE",
        "outputId": "9f9dbdf1-e5af-44eb-8f3a-8f849a2ebf87"
      },
      "execution_count": null,
      "outputs": [
        {
          "output_type": "execute_result",
          "data": {
            "text/plain": [
              "array([0.0095, 0.1841, 0.4571, 0.2635, 0.0603, 0.0159, 0.0032, 0.0063])"
            ]
          },
          "metadata": {},
          "execution_count": 15
        }
      ]
    },
    {
      "cell_type": "code",
      "source": [
        "plt.hist(sample_carotene, bins=bins_edges, alpha=0.7, color='blue', weights=np.ones_like(sample_carotene) / 315, label='1')\n",
        "plt.hist(sample_retinol, bins=bins_edges, alpha=0.7, color='violet', weights=np.ones_like(sample_retinol) / 315, label='2')\n",
        "plt.legend(loc='best')\n",
        "plt.show()"
      ],
      "metadata": {
        "id": "Sk6mdM79DczM"
      },
      "execution_count": null,
      "outputs": []
    },
    {
      "cell_type": "code",
      "source": [
        "sps.chisquare(np.histogram(sample_carotene, bins=bins_edges)[0], np.histogram(sample_retinol, bins=bins_edges)[0])"
      ],
      "metadata": {
        "colab": {
          "base_uri": "https://localhost:8080/"
        },
        "id": "FXG-ONVhGsNC",
        "outputId": "17f19628-973a-49f7-cd6f-b6d7e0f66401"
      },
      "execution_count": null,
      "outputs": [
        {
          "output_type": "execute_result",
          "data": {
            "text/plain": [
              "Power_divergenceResult(statistic=17252.467282074456, pvalue=0.0)"
            ]
          },
          "metadata": {},
          "execution_count": 30
        }
      ]
    },
    {
      "cell_type": "code",
      "source": [
        "sample_diff = np.asarray(sample_carotene) - np.asarray(sample_retinol)"
      ],
      "metadata": {
        "id": "Vt3hjbwSMCZj"
      },
      "execution_count": null,
      "outputs": []
    },
    {
      "cell_type": "code",
      "source": [
        "ssd.sign_test(sample_diff)"
      ],
      "metadata": {
        "colab": {
          "base_uri": "https://localhost:8080/"
        },
        "id": "pwPvTFS54lKn",
        "outputId": "1c07a48b-3f79-4870-864b-b33a1261fb16"
      },
      "execution_count": null,
      "outputs": [
        {
          "output_type": "execute_result",
          "data": {
            "text/plain": [
              "(-146.5, 1.9772043529779528e-75)"
            ]
          },
          "metadata": {},
          "execution_count": 18
        }
      ]
    },
    {
      "cell_type": "code",
      "source": [
        "sps.tmean(sample_carotene)"
      ],
      "metadata": {
        "colab": {
          "base_uri": "https://localhost:8080/"
        },
        "id": "G7FCTfRr9T0U",
        "outputId": "3c145703-4343-45ab-ebdc-fe128e518fb4"
      },
      "execution_count": null,
      "outputs": [
        {
          "output_type": "execute_result",
          "data": {
            "text/plain": [
              "189.8920634920635"
            ]
          },
          "metadata": {},
          "execution_count": 6
        }
      ]
    },
    {
      "cell_type": "code",
      "source": [
        "sps.tmean(sample_retinol)"
      ],
      "metadata": {
        "colab": {
          "base_uri": "https://localhost:8080/"
        },
        "id": "sNXTO2L39YKj",
        "outputId": "e6c9b501-9267-4eb3-f9fc-1a8577250f8a"
      },
      "execution_count": null,
      "outputs": [
        {
          "output_type": "execute_result",
          "data": {
            "text/plain": [
              "602.7904761904762"
            ]
          },
          "metadata": {},
          "execution_count": 7
        }
      ]
    },
    {
      "cell_type": "code",
      "source": [
        "sps.ttest_ind(sample_carotene, sample_retinol)"
      ],
      "metadata": {
        "colab": {
          "base_uri": "https://localhost:8080/"
        },
        "id": "SKjVANIZ7pfE",
        "outputId": "040caafe-4904-454d-8d74-48bd2c15f3f9"
      },
      "execution_count": null,
      "outputs": [
        {
          "output_type": "execute_result",
          "data": {
            "text/plain": [
              "Ttest_indResult(statistic=-26.387385396640326, pvalue=7.906340283236184e-104)"
            ]
          },
          "metadata": {},
          "execution_count": 5
        }
      ]
    },
    {
      "cell_type": "code",
      "source": [
        "sps.tvar(sample_carotene)"
      ],
      "metadata": {
        "colab": {
          "base_uri": "https://localhost:8080/"
        },
        "id": "3VtUhtAn0ji0",
        "outputId": "d5b972f3-66c5-42d3-8e76-63266fdca60f"
      },
      "execution_count": null,
      "outputs": [
        {
          "output_type": "execute_result",
          "data": {
            "text/plain": [
              "33489.2940450915"
            ]
          },
          "metadata": {},
          "execution_count": 14
        }
      ]
    },
    {
      "cell_type": "code",
      "source": [
        "sps.tvar(sample_retinol)"
      ],
      "metadata": {
        "colab": {
          "base_uri": "https://localhost:8080/"
        },
        "id": "N7JFFrZ71cNO",
        "outputId": "43d2c1a9-b25d-4933-f03d-e17c35be4986"
      },
      "execution_count": null,
      "outputs": [
        {
          "output_type": "execute_result",
          "data": {
            "text/plain": [
              "43637.31901728845"
            ]
          },
          "metadata": {},
          "execution_count": 15
        }
      ]
    },
    {
      "cell_type": "code",
      "source": [
        "sps.tvar(sample_carotene)/sps.tvar(sample_retinol)"
      ],
      "metadata": {
        "colab": {
          "base_uri": "https://localhost:8080/"
        },
        "id": "JhoeSEnh_EbW",
        "outputId": "308f056a-37a7-4e4d-b505-abca4e07083e"
      },
      "execution_count": null,
      "outputs": [
        {
          "output_type": "execute_result",
          "data": {
            "text/plain": [
              "0.7674461859543558"
            ]
          },
          "metadata": {},
          "execution_count": 8
        }
      ]
    },
    {
      "cell_type": "code",
      "source": [
        "2*min(sps.f.cdf(0.767, 314, 314), 1 - sps.f.cdf(0.767, 314, 314))"
      ],
      "metadata": {
        "colab": {
          "base_uri": "https://localhost:8080/"
        },
        "id": "tOVbVC2U_Vtm",
        "outputId": "86612b06-d75f-458a-e94a-617402444234"
      },
      "execution_count": null,
      "outputs": [
        {
          "output_type": "execute_result",
          "data": {
            "text/plain": [
              "0.019027704647087754"
            ]
          },
          "metadata": {},
          "execution_count": 9
        }
      ]
    },
    {
      "cell_type": "code",
      "source": [
        "sm.CompareMeans(sm.DescrStatsW(sample_carotene), sm.DescrStatsW(sample_retinol)).tconfint_diff(usevar='unequal')"
      ],
      "metadata": {
        "colab": {
          "base_uri": "https://localhost:8080/"
        },
        "id": "XbR_zz-l9CFM",
        "outputId": "d9bf54d4-e6bb-41bc-f9d8-b1e47b5040f0"
      },
      "execution_count": null,
      "outputs": [
        {
          "output_type": "execute_result",
          "data": {
            "text/plain": [
              "(-443.62733091578133, -382.16949448104407)"
            ]
          },
          "metadata": {},
          "execution_count": 11
        }
      ]
    }
  ]
}